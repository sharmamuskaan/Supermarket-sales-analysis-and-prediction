{
  "nbformat": 4,
  "nbformat_minor": 0,
  "metadata": {
    "colab": {
      "name": "DWM_mini_project.ipynb",
      "provenance": []
    },
    "kernelspec": {
      "name": "python3",
      "display_name": "Python 3"
    },
    "language_info": {
      "name": "python"
    }
  },
  "cells": [
    {
      "cell_type": "code",
      "metadata": {
        "id": "xd2uWTG5Vchq"
      },
      "source": [
        "import numpy as np\n",
        "import pandas as pd\n",
        "import matplotlib.pyplot as plt\n",
        "import seaborn as sns\n",
        "%matplotlib inline"
      ],
      "execution_count": null,
      "outputs": []
    },
    {
      "cell_type": "code",
      "metadata": {
        "colab": {
          "base_uri": "https://localhost:8080/"
        },
        "id": "Vb7vpQ8BXs0Y",
        "outputId": "ff0c2a76-d996-4bc5-867f-abca71fadc7e"
      },
      "source": [
        "from google.colab import drive\n",
        "drive.mount('/content/drive')"
      ],
      "execution_count": null,
      "outputs": [
        {
          "output_type": "stream",
          "text": [
            "Mounted at /content/drive\n"
          ],
          "name": "stdout"
        }
      ]
    },
    {
      "cell_type": "code",
      "metadata": {
        "id": "24yXLgleX_zu"
      },
      "source": [
        "data = pd.read_csv('/content/drive/MyDrive/DWM/supermarket_sales - Sheet1 (1).csv')"
      ],
      "execution_count": null,
      "outputs": []
    },
    {
      "cell_type": "code",
      "metadata": {
        "colab": {
          "base_uri": "https://localhost:8080/",
          "height": 296
        },
        "id": "j_7yjXGUZFBo",
        "outputId": "8ce415c5-c6a6-4cff-f1bd-f175da6d3fb1"
      },
      "source": [
        "data.head()"
      ],
      "execution_count": null,
      "outputs": [
        {
          "output_type": "execute_result",
          "data": {
            "text/html": [
              "<div>\n",
              "<style scoped>\n",
              "    .dataframe tbody tr th:only-of-type {\n",
              "        vertical-align: middle;\n",
              "    }\n",
              "\n",
              "    .dataframe tbody tr th {\n",
              "        vertical-align: top;\n",
              "    }\n",
              "\n",
              "    .dataframe thead th {\n",
              "        text-align: right;\n",
              "    }\n",
              "</style>\n",
              "<table border=\"1\" class=\"dataframe\">\n",
              "  <thead>\n",
              "    <tr style=\"text-align: right;\">\n",
              "      <th></th>\n",
              "      <th>Invoice ID</th>\n",
              "      <th>Branch</th>\n",
              "      <th>City</th>\n",
              "      <th>Customer type</th>\n",
              "      <th>Gender</th>\n",
              "      <th>Product line</th>\n",
              "      <th>Unit price</th>\n",
              "      <th>Quantity</th>\n",
              "      <th>Tax 5%</th>\n",
              "      <th>Total</th>\n",
              "      <th>Date</th>\n",
              "      <th>Time</th>\n",
              "      <th>Payment</th>\n",
              "      <th>cogs</th>\n",
              "      <th>gross margin percentage</th>\n",
              "      <th>gross income</th>\n",
              "      <th>Rating</th>\n",
              "    </tr>\n",
              "  </thead>\n",
              "  <tbody>\n",
              "    <tr>\n",
              "      <th>0</th>\n",
              "      <td>750-67-8428</td>\n",
              "      <td>A</td>\n",
              "      <td>Yangon</td>\n",
              "      <td>Member</td>\n",
              "      <td>Female</td>\n",
              "      <td>Health and beauty</td>\n",
              "      <td>74.69</td>\n",
              "      <td>7</td>\n",
              "      <td>26.1415</td>\n",
              "      <td>548.9715</td>\n",
              "      <td>1/5/2019</td>\n",
              "      <td>13:08</td>\n",
              "      <td>Ewallet</td>\n",
              "      <td>522.83</td>\n",
              "      <td>4.761905</td>\n",
              "      <td>26.1415</td>\n",
              "      <td>9.1</td>\n",
              "    </tr>\n",
              "    <tr>\n",
              "      <th>1</th>\n",
              "      <td>226-31-3081</td>\n",
              "      <td>C</td>\n",
              "      <td>Naypyitaw</td>\n",
              "      <td>Normal</td>\n",
              "      <td>Female</td>\n",
              "      <td>Electronic accessories</td>\n",
              "      <td>15.28</td>\n",
              "      <td>5</td>\n",
              "      <td>3.8200</td>\n",
              "      <td>80.2200</td>\n",
              "      <td>3/8/2019</td>\n",
              "      <td>10:29</td>\n",
              "      <td>Cash</td>\n",
              "      <td>76.40</td>\n",
              "      <td>4.761905</td>\n",
              "      <td>3.8200</td>\n",
              "      <td>9.6</td>\n",
              "    </tr>\n",
              "    <tr>\n",
              "      <th>2</th>\n",
              "      <td>631-41-3108</td>\n",
              "      <td>A</td>\n",
              "      <td>Yangon</td>\n",
              "      <td>Normal</td>\n",
              "      <td>Male</td>\n",
              "      <td>Home and lifestyle</td>\n",
              "      <td>46.33</td>\n",
              "      <td>7</td>\n",
              "      <td>16.2155</td>\n",
              "      <td>340.5255</td>\n",
              "      <td>3/3/2019</td>\n",
              "      <td>13:23</td>\n",
              "      <td>Credit card</td>\n",
              "      <td>324.31</td>\n",
              "      <td>4.761905</td>\n",
              "      <td>16.2155</td>\n",
              "      <td>7.4</td>\n",
              "    </tr>\n",
              "    <tr>\n",
              "      <th>3</th>\n",
              "      <td>123-19-1176</td>\n",
              "      <td>A</td>\n",
              "      <td>Yangon</td>\n",
              "      <td>Member</td>\n",
              "      <td>Male</td>\n",
              "      <td>Health and beauty</td>\n",
              "      <td>58.22</td>\n",
              "      <td>8</td>\n",
              "      <td>23.2880</td>\n",
              "      <td>489.0480</td>\n",
              "      <td>1/27/2019</td>\n",
              "      <td>20:33</td>\n",
              "      <td>Ewallet</td>\n",
              "      <td>465.76</td>\n",
              "      <td>4.761905</td>\n",
              "      <td>23.2880</td>\n",
              "      <td>8.4</td>\n",
              "    </tr>\n",
              "    <tr>\n",
              "      <th>4</th>\n",
              "      <td>373-73-7910</td>\n",
              "      <td>A</td>\n",
              "      <td>Yangon</td>\n",
              "      <td>Normal</td>\n",
              "      <td>Male</td>\n",
              "      <td>Sports and travel</td>\n",
              "      <td>86.31</td>\n",
              "      <td>7</td>\n",
              "      <td>30.2085</td>\n",
              "      <td>634.3785</td>\n",
              "      <td>2/8/2019</td>\n",
              "      <td>10:37</td>\n",
              "      <td>Ewallet</td>\n",
              "      <td>604.17</td>\n",
              "      <td>4.761905</td>\n",
              "      <td>30.2085</td>\n",
              "      <td>5.3</td>\n",
              "    </tr>\n",
              "  </tbody>\n",
              "</table>\n",
              "</div>"
            ],
            "text/plain": [
              "    Invoice ID Branch       City  ... gross margin percentage gross income Rating\n",
              "0  750-67-8428      A     Yangon  ...                4.761905      26.1415    9.1\n",
              "1  226-31-3081      C  Naypyitaw  ...                4.761905       3.8200    9.6\n",
              "2  631-41-3108      A     Yangon  ...                4.761905      16.2155    7.4\n",
              "3  123-19-1176      A     Yangon  ...                4.761905      23.2880    8.4\n",
              "4  373-73-7910      A     Yangon  ...                4.761905      30.2085    5.3\n",
              "\n",
              "[5 rows x 17 columns]"
            ]
          },
          "metadata": {
            "tags": []
          },
          "execution_count": 4
        }
      ]
    },
    {
      "cell_type": "code",
      "metadata": {
        "colab": {
          "base_uri": "https://localhost:8080/",
          "height": 284
        },
        "id": "DN_h0s7VZJcS",
        "outputId": "86045ed3-2145-4654-98dd-39a934585dc5"
      },
      "source": [
        "data.describe()"
      ],
      "execution_count": null,
      "outputs": [
        {
          "output_type": "execute_result",
          "data": {
            "text/html": [
              "<div>\n",
              "<style scoped>\n",
              "    .dataframe tbody tr th:only-of-type {\n",
              "        vertical-align: middle;\n",
              "    }\n",
              "\n",
              "    .dataframe tbody tr th {\n",
              "        vertical-align: top;\n",
              "    }\n",
              "\n",
              "    .dataframe thead th {\n",
              "        text-align: right;\n",
              "    }\n",
              "</style>\n",
              "<table border=\"1\" class=\"dataframe\">\n",
              "  <thead>\n",
              "    <tr style=\"text-align: right;\">\n",
              "      <th></th>\n",
              "      <th>Unit price</th>\n",
              "      <th>Quantity</th>\n",
              "      <th>Tax 5%</th>\n",
              "      <th>Total</th>\n",
              "      <th>cogs</th>\n",
              "      <th>gross margin percentage</th>\n",
              "      <th>gross income</th>\n",
              "      <th>Rating</th>\n",
              "    </tr>\n",
              "  </thead>\n",
              "  <tbody>\n",
              "    <tr>\n",
              "      <th>count</th>\n",
              "      <td>1000.000000</td>\n",
              "      <td>1000.000000</td>\n",
              "      <td>1000.000000</td>\n",
              "      <td>1000.000000</td>\n",
              "      <td>1000.00000</td>\n",
              "      <td>1.000000e+03</td>\n",
              "      <td>1000.000000</td>\n",
              "      <td>1000.00000</td>\n",
              "    </tr>\n",
              "    <tr>\n",
              "      <th>mean</th>\n",
              "      <td>55.672130</td>\n",
              "      <td>5.510000</td>\n",
              "      <td>15.379369</td>\n",
              "      <td>322.966749</td>\n",
              "      <td>307.58738</td>\n",
              "      <td>4.761905e+00</td>\n",
              "      <td>15.379369</td>\n",
              "      <td>6.97270</td>\n",
              "    </tr>\n",
              "    <tr>\n",
              "      <th>std</th>\n",
              "      <td>26.494628</td>\n",
              "      <td>2.923431</td>\n",
              "      <td>11.708825</td>\n",
              "      <td>245.885335</td>\n",
              "      <td>234.17651</td>\n",
              "      <td>6.220360e-14</td>\n",
              "      <td>11.708825</td>\n",
              "      <td>1.71858</td>\n",
              "    </tr>\n",
              "    <tr>\n",
              "      <th>min</th>\n",
              "      <td>10.080000</td>\n",
              "      <td>1.000000</td>\n",
              "      <td>0.508500</td>\n",
              "      <td>10.678500</td>\n",
              "      <td>10.17000</td>\n",
              "      <td>4.761905e+00</td>\n",
              "      <td>0.508500</td>\n",
              "      <td>4.00000</td>\n",
              "    </tr>\n",
              "    <tr>\n",
              "      <th>25%</th>\n",
              "      <td>32.875000</td>\n",
              "      <td>3.000000</td>\n",
              "      <td>5.924875</td>\n",
              "      <td>124.422375</td>\n",
              "      <td>118.49750</td>\n",
              "      <td>4.761905e+00</td>\n",
              "      <td>5.924875</td>\n",
              "      <td>5.50000</td>\n",
              "    </tr>\n",
              "    <tr>\n",
              "      <th>50%</th>\n",
              "      <td>55.230000</td>\n",
              "      <td>5.000000</td>\n",
              "      <td>12.088000</td>\n",
              "      <td>253.848000</td>\n",
              "      <td>241.76000</td>\n",
              "      <td>4.761905e+00</td>\n",
              "      <td>12.088000</td>\n",
              "      <td>7.00000</td>\n",
              "    </tr>\n",
              "    <tr>\n",
              "      <th>75%</th>\n",
              "      <td>77.935000</td>\n",
              "      <td>8.000000</td>\n",
              "      <td>22.445250</td>\n",
              "      <td>471.350250</td>\n",
              "      <td>448.90500</td>\n",
              "      <td>4.761905e+00</td>\n",
              "      <td>22.445250</td>\n",
              "      <td>8.50000</td>\n",
              "    </tr>\n",
              "    <tr>\n",
              "      <th>max</th>\n",
              "      <td>99.960000</td>\n",
              "      <td>10.000000</td>\n",
              "      <td>49.650000</td>\n",
              "      <td>1042.650000</td>\n",
              "      <td>993.00000</td>\n",
              "      <td>4.761905e+00</td>\n",
              "      <td>49.650000</td>\n",
              "      <td>10.00000</td>\n",
              "    </tr>\n",
              "  </tbody>\n",
              "</table>\n",
              "</div>"
            ],
            "text/plain": [
              "        Unit price     Quantity  ...  gross income      Rating\n",
              "count  1000.000000  1000.000000  ...   1000.000000  1000.00000\n",
              "mean     55.672130     5.510000  ...     15.379369     6.97270\n",
              "std      26.494628     2.923431  ...     11.708825     1.71858\n",
              "min      10.080000     1.000000  ...      0.508500     4.00000\n",
              "25%      32.875000     3.000000  ...      5.924875     5.50000\n",
              "50%      55.230000     5.000000  ...     12.088000     7.00000\n",
              "75%      77.935000     8.000000  ...     22.445250     8.50000\n",
              "max      99.960000    10.000000  ...     49.650000    10.00000\n",
              "\n",
              "[8 rows x 8 columns]"
            ]
          },
          "metadata": {
            "tags": []
          },
          "execution_count": 5
        }
      ]
    },
    {
      "cell_type": "code",
      "metadata": {
        "colab": {
          "base_uri": "https://localhost:8080/"
        },
        "id": "mKResnTNZ1IE",
        "outputId": "c7f9e1fd-1a89-4b3a-babf-94a3461e0588"
      },
      "source": [
        "data.info()"
      ],
      "execution_count": null,
      "outputs": [
        {
          "output_type": "stream",
          "text": [
            "<class 'pandas.core.frame.DataFrame'>\n",
            "RangeIndex: 1000 entries, 0 to 999\n",
            "Data columns (total 17 columns):\n",
            " #   Column                   Non-Null Count  Dtype  \n",
            "---  ------                   --------------  -----  \n",
            " 0   Invoice ID               1000 non-null   object \n",
            " 1   Branch                   1000 non-null   object \n",
            " 2   City                     1000 non-null   object \n",
            " 3   Customer type            1000 non-null   object \n",
            " 4   Gender                   1000 non-null   object \n",
            " 5   Product line             1000 non-null   object \n",
            " 6   Unit price               1000 non-null   float64\n",
            " 7   Quantity                 1000 non-null   int64  \n",
            " 8   Tax 5%                   1000 non-null   float64\n",
            " 9   Total                    1000 non-null   float64\n",
            " 10  Date                     1000 non-null   object \n",
            " 11  Time                     1000 non-null   object \n",
            " 12  Payment                  1000 non-null   object \n",
            " 13  cogs                     1000 non-null   float64\n",
            " 14  gross margin percentage  1000 non-null   float64\n",
            " 15  gross income             1000 non-null   float64\n",
            " 16  Rating                   1000 non-null   float64\n",
            "dtypes: float64(7), int64(1), object(9)\n",
            "memory usage: 132.9+ KB\n"
          ],
          "name": "stdout"
        }
      ]
    },
    {
      "cell_type": "code",
      "metadata": {
        "id": "MolqMnkFZ5Sg"
      },
      "source": [
        "df = data.copy()"
      ],
      "execution_count": null,
      "outputs": []
    },
    {
      "cell_type": "markdown",
      "metadata": {
        "id": "dQJ68VPNWQzk"
      },
      "source": [
        "# **ANALYSIS OF DATA**"
      ]
    },
    {
      "cell_type": "markdown",
      "metadata": {
        "id": "YRPqLfa-m9zp"
      },
      "source": [
        "***Which product line has more sale?***"
      ]
    },
    {
      "cell_type": "code",
      "metadata": {
        "id": "OzYJRfhypmbA",
        "colab": {
          "base_uri": "https://localhost:8080/",
          "height": 470
        },
        "outputId": "b0f4d053-b628-433e-9787-2de7d032af85"
      },
      "source": [
        "plt.figure(figsize=(10,5))\n",
        "df['Product line'].value_counts().plot.bar().set_title(\"Product line Sale\",fontsize=13,fontweight='bold')\n",
        "plt.xticks(fontsize=13)\n",
        "plt.show()"
      ],
      "execution_count": null,
      "outputs": [
        {
          "output_type": "display_data",
          "data": {
            "image/png": "[encoded data removed]",
            "text/plain": [
              "<Figure size 720x360 with 1 Axes>"
            ]
          },
          "metadata": {
            "tags": [],
            "needs_background": "light"
          }
        }
      ]
    },
    {
      "cell_type": "markdown",
      "metadata": {
        "id": "VOQkVvufugrA"
      },
      "source": [
        "***Which is the most pouplar payment method used by customers?***"
      ]
    },
    {
      "cell_type": "code",
      "metadata": {
        "colab": {
          "base_uri": "https://localhost:8080/",
          "height": 378
        },
        "id": "qZ_NRXJztrnh",
        "outputId": "f4ec4d77-e12a-4244-a75d-fe6e44f2f0a2"
      },
      "source": [
        "plt.figure(figsize=(6,6))\n",
        "df['Payment'].value_counts().plot.pie(explode=[0.01,0.01,0.01],autopct='%1.1f%%',startangle=60)\n",
        "plt.title('Payment used by customer',fontsize=20)\n",
        "plt.show()"
      ],
      "execution_count": null,
      "outputs": [
        {
          "output_type": "display_data",
          "data": {
            "image/png": "[encoded data removed]",
            "text/plain": [
              "<Figure size 432x432 with 1 Axes>"
            ]
          },
          "metadata": {
            "tags": []
          }
        }
      ]
    },
    {
      "cell_type": "markdown",
      "metadata": {
        "id": "J48pcCm7D3k7"
      },
      "source": [
        "***Total bill in each product line***"
      ]
    },
    {
      "cell_type": "code",
      "metadata": {
        "colab": {
          "base_uri": "https://localhost:8080/",
          "height": 388
        },
        "id": "CBecZjuBu6lf",
        "outputId": "7569009f-49df-49cc-d04e-ba43e7f8a5ca"
      },
      "source": [
        "plt.figure(figsize=(12,6))\n",
        "sns.barplot(x=df['Total'],y=df['Product line'])\n",
        "plt.show()"
      ],
      "execution_count": null,
      "outputs": [
        {
          "output_type": "display_data",
          "data": {
            "image/png": "[encoded data removed]",
            "text/plain": [
              "<Figure size 864x432 with 1 Axes>"
            ]
          },
          "metadata": {
            "tags": [],
            "needs_background": "light"
          }
        }
      ]
    },
    {
      "cell_type": "markdown",
      "metadata": {
        "id": "1DyRNUhkEgj8"
      },
      "source": [
        "***Product sales on the basis of gender***"
      ]
    },
    {
      "cell_type": "code",
      "metadata": {
        "colab": {
          "base_uri": "https://localhost:8080/"
        },
        "id": "8s7NZE7EEXFQ",
        "outputId": "cce42849-4ec8-4229-9c78-65c21f5d7cca"
      },
      "source": [
        "df.groupby('Product line')['Gender'].value_counts()"
      ],
      "execution_count": null,
      "outputs": [
        {
          "output_type": "execute_result",
          "data": {
            "text/plain": [
              "Product line            Gender\n",
              "Electronic accessories  Male      86\n",
              "                        Female    84\n",
              "Fashion accessories     Female    96\n",
              "                        Male      82\n",
              "Food and beverages      Female    90\n",
              "                        Male      84\n",
              "Health and beauty       Male      88\n",
              "                        Female    64\n",
              "Home and lifestyle      Male      81\n",
              "                        Female    79\n",
              "Sports and travel       Female    88\n",
              "                        Male      78\n",
              "Name: Gender, dtype: int64"
            ]
          },
          "metadata": {
            "tags": []
          },
          "execution_count": 11
        }
      ]
    },
    {
      "cell_type": "code",
      "metadata": {
        "colab": {
          "base_uri": "https://localhost:8080/",
          "height": 404
        },
        "id": "4-M2yx9tEbg9",
        "outputId": "93eb759b-0c5a-4db1-89ef-ea880d4573f0"
      },
      "source": [
        "plt.figure(figsize=(14,6))\n",
        "sns.swarmplot(x= \"Product line\", y = \"Rating\", hue = \"Gender\", data = df).set_title(\"Product sales on the basis of gender\")\n",
        "plt.show()"
      ],
      "execution_count": null,
      "outputs": [
        {
          "output_type": "display_data",
          "data": {
            "image/png": "[encoded data removed]",
            "text/plain": [
              "<Figure size 1008x432 with 1 Axes>"
            ]
          },
          "metadata": {
            "tags": [],
            "needs_background": "light"
          }
        }
      ]
    },
    {
      "cell_type": "markdown",
      "metadata": {
        "id": "MIkH-Af5FWC8"
      },
      "source": [
        "***Which City is the most profitable?***"
      ]
    },
    {
      "cell_type": "code",
      "metadata": {
        "colab": {
          "base_uri": "https://localhost:8080/",
          "height": 279
        },
        "id": "c1GdEINuE3NI",
        "outputId": "34faa380-efda-4346-8460-b91e603e89a0"
      },
      "source": [
        "sns.boxplot(x=df['City'], y=df['gross income'])\n",
        "plt.show()"
      ],
      "execution_count": null,
      "outputs": [
        {
          "output_type": "display_data",
          "data": {
            "image/png": "[encoded data removed]",
            "text/plain": [
              "<Figure size 432x288 with 1 Axes>"
            ]
          },
          "metadata": {
            "tags": [],
            "needs_background": "light"
          }
        }
      ]
    },
    {
      "cell_type": "markdown",
      "metadata": {
        "id": "5evw1GiHGgII"
      },
      "source": [
        "***Which product line generates most income?***"
      ]
    },
    {
      "cell_type": "code",
      "metadata": {
        "colab": {
          "base_uri": "https://localhost:8080/",
          "height": 497
        },
        "id": "Qm2qkQ8oGb4T",
        "outputId": "4a1923dc-2243-41ca-d295-52101ac85d7b"
      },
      "source": [
        "cat=df[[\"Product line\", \"gross income\"]].groupby(['Product line'], as_index=False).sum()\n",
        "cat_sort=cat.sort_values(by='gross income', ascending=False)\n",
        "plt.figure(figsize=(15,8))\n",
        "sns.barplot(x='Product line', y='gross income', data=cat_sort)\n",
        "plt.show()"
      ],
      "execution_count": null,
      "outputs": [
        {
          "output_type": "display_data",
          "data": {
            "image/png": "[encoded data removed]",
            "text/plain": [
              "<Figure size 1080x576 with 1 Axes>"
            ]
          },
          "metadata": {
            "tags": [],
            "needs_background": "light"
          }
        }
      ]
    },
    {
      "cell_type": "code",
      "metadata": {
        "colab": {
          "base_uri": "https://localhost:8080/",
          "height": 402
        },
        "id": "nplccgzdZ-wC",
        "outputId": "42e6806d-7141-48e8-c169-9105bb01a783"
      },
      "source": [
        "data[[i for i in data.columns if data[i].dtypes == 'object']]"
      ],
      "execution_count": null,
      "outputs": [
        {
          "output_type": "execute_result",
          "data": {
            "text/html": [
              "<div>\n",
              "<style scoped>\n",
              "    .dataframe tbody tr th:only-of-type {\n",
              "        vertical-align: middle;\n",
              "    }\n",
              "\n",
              "    .dataframe tbody tr th {\n",
              "        vertical-align: top;\n",
              "    }\n",
              "\n",
              "    .dataframe thead th {\n",
              "        text-align: right;\n",
              "    }\n",
              "</style>\n",
              "<table border=\"1\" class=\"dataframe\">\n",
              "  <thead>\n",
              "    <tr style=\"text-align: right;\">\n",
              "      <th></th>\n",
              "      <th>Invoice ID</th>\n",
              "      <th>Branch</th>\n",
              "      <th>City</th>\n",
              "      <th>Customer type</th>\n",
              "      <th>Gender</th>\n",
              "      <th>Product line</th>\n",
              "      <th>Date</th>\n",
              "      <th>Time</th>\n",
              "      <th>Payment</th>\n",
              "    </tr>\n",
              "  </thead>\n",
              "  <tbody>\n",
              "    <tr>\n",
              "      <th>0</th>\n",
              "      <td>750-67-8428</td>\n",
              "      <td>A</td>\n",
              "      <td>Yangon</td>\n",
              "      <td>Member</td>\n",
              "      <td>Female</td>\n",
              "      <td>Health and beauty</td>\n",
              "      <td>1/5/2019</td>\n",
              "      <td>13:08</td>\n",
              "      <td>Ewallet</td>\n",
              "    </tr>\n",
              "    <tr>\n",
              "      <th>1</th>\n",
              "      <td>226-31-3081</td>\n",
              "      <td>C</td>\n",
              "      <td>Naypyitaw</td>\n",
              "      <td>Normal</td>\n",
              "      <td>Female</td>\n",
              "      <td>Electronic accessories</td>\n",
              "      <td>3/8/2019</td>\n",
              "      <td>10:29</td>\n",
              "      <td>Cash</td>\n",
              "    </tr>\n",
              "    <tr>\n",
              "      <th>2</th>\n",
              "      <td>631-41-3108</td>\n",
              "      <td>A</td>\n",
              "      <td>Yangon</td>\n",
              "      <td>Normal</td>\n",
              "      <td>Male</td>\n",
              "      <td>Home and lifestyle</td>\n",
              "      <td>3/3/2019</td>\n",
              "      <td>13:23</td>\n",
              "      <td>Credit card</td>\n",
              "    </tr>\n",
              "    <tr>\n",
              "      <th>3</th>\n",
              "      <td>123-19-1176</td>\n",
              "      <td>A</td>\n",
              "      <td>Yangon</td>\n",
              "      <td>Member</td>\n",
              "      <td>Male</td>\n",
              "      <td>Health and beauty</td>\n",
              "      <td>1/27/2019</td>\n",
              "      <td>20:33</td>\n",
              "      <td>Ewallet</td>\n",
              "    </tr>\n",
              "    <tr>\n",
              "      <th>4</th>\n",
              "      <td>373-73-7910</td>\n",
              "      <td>A</td>\n",
              "      <td>Yangon</td>\n",
              "      <td>Normal</td>\n",
              "      <td>Male</td>\n",
              "      <td>Sports and travel</td>\n",
              "      <td>2/8/2019</td>\n",
              "      <td>10:37</td>\n",
              "      <td>Ewallet</td>\n",
              "    </tr>\n",
              "    <tr>\n",
              "      <th>...</th>\n",
              "      <td>...</td>\n",
              "      <td>...</td>\n",
              "      <td>...</td>\n",
              "      <td>...</td>\n",
              "      <td>...</td>\n",
              "      <td>...</td>\n",
              "      <td>...</td>\n",
              "      <td>...</td>\n",
              "      <td>...</td>\n",
              "    </tr>\n",
              "    <tr>\n",
              "      <th>995</th>\n",
              "      <td>233-67-5758</td>\n",
              "      <td>C</td>\n",
              "      <td>Naypyitaw</td>\n",
              "      <td>Normal</td>\n",
              "      <td>Male</td>\n",
              "      <td>Health and beauty</td>\n",
              "      <td>1/29/2019</td>\n",
              "      <td>13:46</td>\n",
              "      <td>Ewallet</td>\n",
              "    </tr>\n",
              "    <tr>\n",
              "      <th>996</th>\n",
              "      <td>303-96-2227</td>\n",
              "      <td>B</td>\n",
              "      <td>Mandalay</td>\n",
              "      <td>Normal</td>\n",
              "      <td>Female</td>\n",
              "      <td>Home and lifestyle</td>\n",
              "      <td>3/2/2019</td>\n",
              "      <td>17:16</td>\n",
              "      <td>Ewallet</td>\n",
              "    </tr>\n",
              "    <tr>\n",
              "      <th>997</th>\n",
              "      <td>727-02-1313</td>\n",
              "      <td>A</td>\n",
              "      <td>Yangon</td>\n",
              "      <td>Member</td>\n",
              "      <td>Male</td>\n",
              "      <td>Food and beverages</td>\n",
              "      <td>2/9/2019</td>\n",
              "      <td>13:22</td>\n",
              "      <td>Cash</td>\n",
              "    </tr>\n",
              "    <tr>\n",
              "      <th>998</th>\n",
              "      <td>347-56-2442</td>\n",
              "      <td>A</td>\n",
              "      <td>Yangon</td>\n",
              "      <td>Normal</td>\n",
              "      <td>Male</td>\n",
              "      <td>Home and lifestyle</td>\n",
              "      <td>2/22/2019</td>\n",
              "      <td>15:33</td>\n",
              "      <td>Cash</td>\n",
              "    </tr>\n",
              "    <tr>\n",
              "      <th>999</th>\n",
              "      <td>849-09-3807</td>\n",
              "      <td>A</td>\n",
              "      <td>Yangon</td>\n",
              "      <td>Member</td>\n",
              "      <td>Female</td>\n",
              "      <td>Fashion accessories</td>\n",
              "      <td>2/18/2019</td>\n",
              "      <td>13:28</td>\n",
              "      <td>Cash</td>\n",
              "    </tr>\n",
              "  </tbody>\n",
              "</table>\n",
              "<p>1000 rows × 9 columns</p>\n",
              "</div>"
            ],
            "text/plain": [
              "      Invoice ID Branch       City  ...       Date   Time      Payment\n",
              "0    750-67-8428      A     Yangon  ...   1/5/2019  13:08      Ewallet\n",
              "1    226-31-3081      C  Naypyitaw  ...   3/8/2019  10:29         Cash\n",
              "2    631-41-3108      A     Yangon  ...   3/3/2019  13:23  Credit card\n",
              "3    123-19-1176      A     Yangon  ...  1/27/2019  20:33      Ewallet\n",
              "4    373-73-7910      A     Yangon  ...   2/8/2019  10:37      Ewallet\n",
              "..           ...    ...        ...  ...        ...    ...          ...\n",
              "995  233-67-5758      C  Naypyitaw  ...  1/29/2019  13:46      Ewallet\n",
              "996  303-96-2227      B   Mandalay  ...   3/2/2019  17:16      Ewallet\n",
              "997  727-02-1313      A     Yangon  ...   2/9/2019  13:22         Cash\n",
              "998  347-56-2442      A     Yangon  ...  2/22/2019  15:33         Cash\n",
              "999  849-09-3807      A     Yangon  ...  2/18/2019  13:28         Cash\n",
              "\n",
              "[1000 rows x 9 columns]"
            ]
          },
          "metadata": {
            "tags": []
          },
          "execution_count": 15
        }
      ]
    },
    {
      "cell_type": "code",
      "metadata": {
        "colab": {
          "base_uri": "https://localhost:8080/",
          "height": 402
        },
        "id": "7Zh8-fsuaBRD",
        "outputId": "01ce5314-540e-43d2-a3bb-d02d329c4d11"
      },
      "source": [
        "data[[i for i in data.columns if data[i].dtypes != 'object']]"
      ],
      "execution_count": null,
      "outputs": [
        {
          "output_type": "execute_result",
          "data": {
            "text/html": [
              "<div>\n",
              "<style scoped>\n",
              "    .dataframe tbody tr th:only-of-type {\n",
              "        vertical-align: middle;\n",
              "    }\n",
              "\n",
              "    .dataframe tbody tr th {\n",
              "        vertical-align: top;\n",
              "    }\n",
              "\n",
              "    .dataframe thead th {\n",
              "        text-align: right;\n",
              "    }\n",
              "</style>\n",
              "<table border=\"1\" class=\"dataframe\">\n",
              "  <thead>\n",
              "    <tr style=\"text-align: right;\">\n",
              "      <th></th>\n",
              "      <th>Unit price</th>\n",
              "      <th>Quantity</th>\n",
              "      <th>Tax 5%</th>\n",
              "      <th>Total</th>\n",
              "      <th>cogs</th>\n",
              "      <th>gross margin percentage</th>\n",
              "      <th>gross income</th>\n",
              "      <th>Rating</th>\n",
              "    </tr>\n",
              "  </thead>\n",
              "  <tbody>\n",
              "    <tr>\n",
              "      <th>0</th>\n",
              "      <td>74.69</td>\n",
              "      <td>7</td>\n",
              "      <td>26.1415</td>\n",
              "      <td>548.9715</td>\n",
              "      <td>522.83</td>\n",
              "      <td>4.761905</td>\n",
              "      <td>26.1415</td>\n",
              "      <td>9.1</td>\n",
              "    </tr>\n",
              "    <tr>\n",
              "      <th>1</th>\n",
              "      <td>15.28</td>\n",
              "      <td>5</td>\n",
              "      <td>3.8200</td>\n",
              "      <td>80.2200</td>\n",
              "      <td>76.40</td>\n",
              "      <td>4.761905</td>\n",
              "      <td>3.8200</td>\n",
              "      <td>9.6</td>\n",
              "    </tr>\n",
              "    <tr>\n",
              "      <th>2</th>\n",
              "      <td>46.33</td>\n",
              "      <td>7</td>\n",
              "      <td>16.2155</td>\n",
              "      <td>340.5255</td>\n",
              "      <td>324.31</td>\n",
              "      <td>4.761905</td>\n",
              "      <td>16.2155</td>\n",
              "      <td>7.4</td>\n",
              "    </tr>\n",
              "    <tr>\n",
              "      <th>3</th>\n",
              "      <td>58.22</td>\n",
              "      <td>8</td>\n",
              "      <td>23.2880</td>\n",
              "      <td>489.0480</td>\n",
              "      <td>465.76</td>\n",
              "      <td>4.761905</td>\n",
              "      <td>23.2880</td>\n",
              "      <td>8.4</td>\n",
              "    </tr>\n",
              "    <tr>\n",
              "      <th>4</th>\n",
              "      <td>86.31</td>\n",
              "      <td>7</td>\n",
              "      <td>30.2085</td>\n",
              "      <td>634.3785</td>\n",
              "      <td>604.17</td>\n",
              "      <td>4.761905</td>\n",
              "      <td>30.2085</td>\n",
              "      <td>5.3</td>\n",
              "    </tr>\n",
              "    <tr>\n",
              "      <th>...</th>\n",
              "      <td>...</td>\n",
              "      <td>...</td>\n",
              "      <td>...</td>\n",
              "      <td>...</td>\n",
              "      <td>...</td>\n",
              "      <td>...</td>\n",
              "      <td>...</td>\n",
              "      <td>...</td>\n",
              "    </tr>\n",
              "    <tr>\n",
              "      <th>995</th>\n",
              "      <td>40.35</td>\n",
              "      <td>1</td>\n",
              "      <td>2.0175</td>\n",
              "      <td>42.3675</td>\n",
              "      <td>40.35</td>\n",
              "      <td>4.761905</td>\n",
              "      <td>2.0175</td>\n",
              "      <td>6.2</td>\n",
              "    </tr>\n",
              "    <tr>\n",
              "      <th>996</th>\n",
              "      <td>97.38</td>\n",
              "      <td>10</td>\n",
              "      <td>48.6900</td>\n",
              "      <td>1022.4900</td>\n",
              "      <td>973.80</td>\n",
              "      <td>4.761905</td>\n",
              "      <td>48.6900</td>\n",
              "      <td>4.4</td>\n",
              "    </tr>\n",
              "    <tr>\n",
              "      <th>997</th>\n",
              "      <td>31.84</td>\n",
              "      <td>1</td>\n",
              "      <td>1.5920</td>\n",
              "      <td>33.4320</td>\n",
              "      <td>31.84</td>\n",
              "      <td>4.761905</td>\n",
              "      <td>1.5920</td>\n",
              "      <td>7.7</td>\n",
              "    </tr>\n",
              "    <tr>\n",
              "      <th>998</th>\n",
              "      <td>65.82</td>\n",
              "      <td>1</td>\n",
              "      <td>3.2910</td>\n",
              "      <td>69.1110</td>\n",
              "      <td>65.82</td>\n",
              "      <td>4.761905</td>\n",
              "      <td>3.2910</td>\n",
              "      <td>4.1</td>\n",
              "    </tr>\n",
              "    <tr>\n",
              "      <th>999</th>\n",
              "      <td>88.34</td>\n",
              "      <td>7</td>\n",
              "      <td>30.9190</td>\n",
              "      <td>649.2990</td>\n",
              "      <td>618.38</td>\n",
              "      <td>4.761905</td>\n",
              "      <td>30.9190</td>\n",
              "      <td>6.6</td>\n",
              "    </tr>\n",
              "  </tbody>\n",
              "</table>\n",
              "<p>1000 rows × 8 columns</p>\n",
              "</div>"
            ],
            "text/plain": [
              "     Unit price  Quantity  ...  gross income  Rating\n",
              "0         74.69         7  ...       26.1415     9.1\n",
              "1         15.28         5  ...        3.8200     9.6\n",
              "2         46.33         7  ...       16.2155     7.4\n",
              "3         58.22         8  ...       23.2880     8.4\n",
              "4         86.31         7  ...       30.2085     5.3\n",
              "..          ...       ...  ...           ...     ...\n",
              "995       40.35         1  ...        2.0175     6.2\n",
              "996       97.38        10  ...       48.6900     4.4\n",
              "997       31.84         1  ...        1.5920     7.7\n",
              "998       65.82         1  ...        3.2910     4.1\n",
              "999       88.34         7  ...       30.9190     6.6\n",
              "\n",
              "[1000 rows x 8 columns]"
            ]
          },
          "metadata": {
            "tags": []
          },
          "execution_count": 16
        }
      ]
    },
    {
      "cell_type": "code",
      "metadata": {
        "id": "az7gc5OGaGtd"
      },
      "source": [
        "data['DateTime'] = data['Date']+\" \"+ data['Time']\n",
        "data['DateTime'] = pd.to_datetime(data['DateTime'])"
      ],
      "execution_count": null,
      "outputs": []
    },
    {
      "cell_type": "markdown",
      "metadata": {
        "id": "dDOZrKT0XVrg"
      },
      "source": [
        "# **DATA ANALYSIS AND DATA CLEANING**"
      ]
    },
    {
      "cell_type": "code",
      "metadata": {
        "colab": {
          "base_uri": "https://localhost:8080/"
        },
        "id": "7Qhj4_eHaL9W",
        "outputId": "2627751a-b646-4336-d606-2c53e493538f"
      },
      "source": [
        "data['Branch'].value_counts()"
      ],
      "execution_count": null,
      "outputs": [
        {
          "output_type": "execute_result",
          "data": {
            "text/plain": [
              "A    340\n",
              "B    332\n",
              "C    328\n",
              "Name: Branch, dtype: int64"
            ]
          },
          "metadata": {
            "tags": []
          },
          "execution_count": 18
        }
      ]
    },
    {
      "cell_type": "code",
      "metadata": {
        "colab": {
          "base_uri": "https://localhost:8080/",
          "height": 400
        },
        "id": "c8cmm4RPaQ2b",
        "outputId": "ef3f4258-420d-4b63-ee90-82c40c8793d2"
      },
      "source": [
        "sns.catplot(x=\"Branch\", kind=\"count\", palette=\"ch:.25\", data=data)"
      ],
      "execution_count": null,
      "outputs": [
        {
          "output_type": "execute_result",
          "data": {
            "text/plain": [
              "<seaborn.axisgrid.FacetGrid at 0x7fcfe3eca8d0>"
            ]
          },
          "metadata": {
            "tags": []
          },
          "execution_count": 19
        },
        {
          "output_type": "display_data",
          "data": {
            "image/png": "[encoded data removed]",
            "text/plain": [
              "<Figure size 360x360 with 1 Axes>"
            ]
          },
          "metadata": {
            "tags": [],
            "needs_background": "light"
          }
        }
      ]
    },
    {
      "cell_type": "code",
      "metadata": {
        "colab": {
          "base_uri": "https://localhost:8080/"
        },
        "id": "ikFDQUacaUML",
        "outputId": "f43e6134-07f3-48e4-ecd1-5ce6649779da"
      },
      "source": [
        "data['City'].value_counts()"
      ],
      "execution_count": null,
      "outputs": [
        {
          "output_type": "execute_result",
          "data": {
            "text/plain": [
              "Yangon       340\n",
              "Mandalay     332\n",
              "Naypyitaw    328\n",
              "Name: City, dtype: int64"
            ]
          },
          "metadata": {
            "tags": []
          },
          "execution_count": 20
        }
      ]
    },
    {
      "cell_type": "code",
      "metadata": {
        "id": "9LpW8agRakiF"
      },
      "source": [
        "data = data.drop(['City'],axis=1)\n",
        "data = data.drop(['Date','Time'],axis=1)"
      ],
      "execution_count": null,
      "outputs": []
    },
    {
      "cell_type": "code",
      "metadata": {
        "colab": {
          "base_uri": "https://localhost:8080/"
        },
        "id": "S_Gw9vCjarvu",
        "outputId": "53ed1d7b-e2da-46e4-da7d-852e00e9044e"
      },
      "source": [
        "data['Customer type'].value_counts()"
      ],
      "execution_count": null,
      "outputs": [
        {
          "output_type": "execute_result",
          "data": {
            "text/plain": [
              "Member    501\n",
              "Normal    499\n",
              "Name: Customer type, dtype: int64"
            ]
          },
          "metadata": {
            "tags": []
          },
          "execution_count": 22
        }
      ]
    },
    {
      "cell_type": "code",
      "metadata": {
        "colab": {
          "base_uri": "https://localhost:8080/",
          "height": 400
        },
        "id": "KOI8bSLkavB4",
        "outputId": "e7614e31-7847-4245-a6b4-db7f43525133"
      },
      "source": [
        "sns.catplot(x=\"Customer type\", kind=\"count\", palette=\"ch:.25\", data=data)"
      ],
      "execution_count": null,
      "outputs": [
        {
          "output_type": "execute_result",
          "data": {
            "text/plain": [
              "<seaborn.axisgrid.FacetGrid at 0x7fcfe3e495d0>"
            ]
          },
          "metadata": {
            "tags": []
          },
          "execution_count": 23
        },
        {
          "output_type": "display_data",
          "data": {
            "image/png": "[encoded data removed]",
            "text/plain": [
              "<Figure size 360x360 with 1 Axes>"
            ]
          },
          "metadata": {
            "tags": [],
            "needs_background": "light"
          }
        }
      ]
    },
    {
      "cell_type": "code",
      "metadata": {
        "colab": {
          "base_uri": "https://localhost:8080/"
        },
        "id": "3bXkxgNJaycR",
        "outputId": "3248fa21-f0e8-4254-8be8-0c7e0c03a32a"
      },
      "source": [
        "data['Gender'].value_counts()"
      ],
      "execution_count": null,
      "outputs": [
        {
          "output_type": "execute_result",
          "data": {
            "text/plain": [
              "Female    501\n",
              "Male      499\n",
              "Name: Gender, dtype: int64"
            ]
          },
          "metadata": {
            "tags": []
          },
          "execution_count": 24
        }
      ]
    },
    {
      "cell_type": "code",
      "metadata": {
        "colab": {
          "base_uri": "https://localhost:8080/",
          "height": 466
        },
        "id": "QaoEeQv_a6hT",
        "outputId": "cda2ee65-a9a7-40d2-8cc9-38e9d9a54f4e"
      },
      "source": [
        "size = data['Customer type'].value_counts(sort=True)\n",
        "colors = ['Red','Yellow']\n",
        "labels = ['Member','Normal']\n",
        "explode = (0,0.1)\n",
        "plt.figure(figsize=(10 , 8))\n",
        "plt.pie(size,colors=colors,autopct='%1.1f%%',shadow=True,startangle = 270 ,explode= explode, labels=labels)\n",
        "\n",
        "plt.show()"
      ],
      "execution_count": null,
      "outputs": [
        {
          "output_type": "display_data",
          "data": {
            "image/png": "[encoded data removed]",
            "text/plain": [
              "<Figure size 720x576 with 1 Axes>"
            ]
          },
          "metadata": {
            "tags": []
          }
        }
      ]
    },
    {
      "cell_type": "code",
      "metadata": {
        "colab": {
          "base_uri": "https://localhost:8080/",
          "height": 296
        },
        "id": "o8VzzJ_Qa9mX",
        "outputId": "95d22988-26de-4c20-90db-a7b99922541c"
      },
      "source": [
        "plt.figure(figsize=(8,4))\n",
        "sns.countplot(x='Customer type', data= data, palette= \"rocket\",hue = \"Gender\")"
      ],
      "execution_count": null,
      "outputs": [
        {
          "output_type": "execute_result",
          "data": {
            "text/plain": [
              "<matplotlib.axes._subplots.AxesSubplot at 0x7fcfe3d62410>"
            ]
          },
          "metadata": {
            "tags": []
          },
          "execution_count": 26
        },
        {
          "output_type": "display_data",
          "data": {
            "image/png": "[encoded data removed]",
            "text/plain": [
              "<Figure size 576x288 with 1 Axes>"
            ]
          },
          "metadata": {
            "tags": [],
            "needs_background": "light"
          }
        }
      ]
    },
    {
      "cell_type": "code",
      "metadata": {
        "colab": {
          "base_uri": "https://localhost:8080/"
        },
        "id": "_ufWrWJIbAzP",
        "outputId": "be6466e1-3be6-4a73-8954-241cf0358d83"
      },
      "source": [
        "data['Product line'].value_counts()"
      ],
      "execution_count": null,
      "outputs": [
        {
          "output_type": "execute_result",
          "data": {
            "text/plain": [
              "Fashion accessories       178\n",
              "Food and beverages        174\n",
              "Electronic accessories    170\n",
              "Sports and travel         166\n",
              "Home and lifestyle        160\n",
              "Health and beauty         152\n",
              "Name: Product line, dtype: int64"
            ]
          },
          "metadata": {
            "tags": []
          },
          "execution_count": 27
        }
      ]
    },
    {
      "cell_type": "code",
      "metadata": {
        "colab": {
          "base_uri": "https://localhost:8080/",
          "height": 514
        },
        "id": "H9ObVwNmbDo_",
        "outputId": "5174e48b-f054-4659-f315-5b0d9f420420"
      },
      "source": [
        "plt.figure(figsize=(16,8))\n",
        "sns.countplot(x='Product line',data=data,palette='coolwarm',hue='Gender')"
      ],
      "execution_count": null,
      "outputs": [
        {
          "output_type": "execute_result",
          "data": {
            "text/plain": [
              "<matplotlib.axes._subplots.AxesSubplot at 0x7fcfe3cdec90>"
            ]
          },
          "metadata": {
            "tags": []
          },
          "execution_count": 28
        },
        {
          "output_type": "display_data",
          "data": {
            "image/png": "[encoded data removed]",
            "text/plain": [
              "<Figure size 1152x576 with 1 Axes>"
            ]
          },
          "metadata": {
            "tags": [],
            "needs_background": "light"
          }
        }
      ]
    },
    {
      "cell_type": "code",
      "metadata": {
        "colab": {
          "base_uri": "https://localhost:8080/",
          "height": 296
        },
        "id": "6EJLGBuQbHaS",
        "outputId": "01650751-21c6-4412-bf6d-e3d38f151638"
      },
      "source": [
        "sns.countplot(x=data['Payment'],data=data,palette='BuPu')"
      ],
      "execution_count": null,
      "outputs": [
        {
          "output_type": "execute_result",
          "data": {
            "text/plain": [
              "<matplotlib.axes._subplots.AxesSubplot at 0x7fcfe3c85290>"
            ]
          },
          "metadata": {
            "tags": []
          },
          "execution_count": 29
        },
        {
          "output_type": "display_data",
          "data": {
            "image/png": "[encoded data removed]",
            "text/plain": [
              "<Figure size 432x288 with 1 Axes>"
            ]
          },
          "metadata": {
            "tags": [],
            "needs_background": "light"
          }
        }
      ]
    },
    {
      "cell_type": "code",
      "metadata": {
        "colab": {
          "base_uri": "https://localhost:8080/",
          "height": 514
        },
        "id": "7IvLN6hmbKVf",
        "outputId": "e3241508-f2c9-4ebc-8935-0f8001e07652"
      },
      "source": [
        "plt.figure(figsize=(20,8))\n",
        "sns.countplot(x='Product line',data=data,palette='ocean',hue='Branch')"
      ],
      "execution_count": null,
      "outputs": [
        {
          "output_type": "execute_result",
          "data": {
            "text/plain": [
              "<matplotlib.axes._subplots.AxesSubplot at 0x7fcfe3bf0d90>"
            ]
          },
          "metadata": {
            "tags": []
          },
          "execution_count": 30
        },
        {
          "output_type": "display_data",
          "data": {
            "image/png": "[encoded data removed]",
            "text/plain": [
              "<Figure size 1440x576 with 1 Axes>"
            ]
          },
          "metadata": {
            "tags": [],
            "needs_background": "light"
          }
        }
      ]
    },
    {
      "cell_type": "code",
      "metadata": {
        "colab": {
          "base_uri": "https://localhost:8080/",
          "height": 619
        },
        "id": "Vu3LtHw_bPzT",
        "outputId": "c7473575-a9c7-485d-cfb7-2d8951798950"
      },
      "source": [
        "plt.figure(figsize=(16,8))\n",
        "sns.heatmap(data.corr(),annot=True)"
      ],
      "execution_count": null,
      "outputs": [
        {
          "output_type": "execute_result",
          "data": {
            "text/plain": [
              "<matplotlib.axes._subplots.AxesSubplot at 0x7fd002e8ded0>"
            ]
          },
          "metadata": {
            "tags": []
          },
          "execution_count": 31
        },
        {
          "output_type": "display_data",
          "data": {
            "image/png": "[encoded data removed]",
            "text/plain": [
              "<Figure size 1152x576 with 2 Axes>"
            ]
          },
          "metadata": {
            "tags": [],
            "needs_background": "light"
          }
        }
      ]
    },
    {
      "cell_type": "code",
      "metadata": {
        "id": "JUCHndnWbS_l"
      },
      "source": [
        "[i for i in data.columns if data[i].dtype == 'object']\n",
        "data = pd.get_dummies(data,drop_first=True)"
      ],
      "execution_count": null,
      "outputs": []
    },
    {
      "cell_type": "code",
      "metadata": {
        "id": "pRGN0B2EbW1O"
      },
      "source": [
        "data['TotalbyQuantity'] = data['Total'] / data['Quantity']"
      ],
      "execution_count": null,
      "outputs": []
    },
    {
      "cell_type": "code",
      "metadata": {
        "colab": {
          "base_uri": "https://localhost:8080/",
          "height": 402
        },
        "id": "XouHGqqFbZS1",
        "outputId": "e6d03e23-0236-466a-ac8e-4df40ec6342f"
      },
      "source": [
        "num = data[['Unit price','Quantity','Tax 5%','Total','cogs','gross margin percentage','gross income','Rating','TotalbyQuantity']]\n",
        "from sklearn.preprocessing import MinMaxScaler\n",
        "scaler = MinMaxScaler()\n",
        "num = scaler.fit_transform(num)\n",
        "num = pd.DataFrame(num,columns=['Unit price','Quantity','Tax 5%','Total','cogs','gross margin percentage','gross income','Rating','TotalbyQuantity'])\n",
        "num"
      ],
      "execution_count": null,
      "outputs": [
        {
          "output_type": "execute_result",
          "data": {
            "text/html": [
              "<div>\n",
              "<style scoped>\n",
              "    .dataframe tbody tr th:only-of-type {\n",
              "        vertical-align: middle;\n",
              "    }\n",
              "\n",
              "    .dataframe tbody tr th {\n",
              "        vertical-align: top;\n",
              "    }\n",
              "\n",
              "    .dataframe thead th {\n",
              "        text-align: right;\n",
              "    }\n",
              "</style>\n",
              "<table border=\"1\" class=\"dataframe\">\n",
              "  <thead>\n",
              "    <tr style=\"text-align: right;\">\n",
              "      <th></th>\n",
              "      <th>Unit price</th>\n",
              "      <th>Quantity</th>\n",
              "      <th>Tax 5%</th>\n",
              "      <th>Total</th>\n",
              "      <th>cogs</th>\n",
              "      <th>gross margin percentage</th>\n",
              "      <th>gross income</th>\n",
              "      <th>Rating</th>\n",
              "      <th>TotalbyQuantity</th>\n",
              "    </tr>\n",
              "  </thead>\n",
              "  <tbody>\n",
              "    <tr>\n",
              "      <th>0</th>\n",
              "      <td>0.718847</td>\n",
              "      <td>0.666667</td>\n",
              "      <td>0.521616</td>\n",
              "      <td>0.521616</td>\n",
              "      <td>0.521616</td>\n",
              "      <td>0.0</td>\n",
              "      <td>0.521616</td>\n",
              "      <td>0.850000</td>\n",
              "      <td>0.718847</td>\n",
              "    </tr>\n",
              "    <tr>\n",
              "      <th>1</th>\n",
              "      <td>0.057855</td>\n",
              "      <td>0.444444</td>\n",
              "      <td>0.067387</td>\n",
              "      <td>0.067387</td>\n",
              "      <td>0.067387</td>\n",
              "      <td>0.0</td>\n",
              "      <td>0.067387</td>\n",
              "      <td>0.933333</td>\n",
              "      <td>0.057855</td>\n",
              "    </tr>\n",
              "    <tr>\n",
              "      <th>2</th>\n",
              "      <td>0.403316</td>\n",
              "      <td>0.666667</td>\n",
              "      <td>0.319628</td>\n",
              "      <td>0.319628</td>\n",
              "      <td>0.319628</td>\n",
              "      <td>0.0</td>\n",
              "      <td>0.319628</td>\n",
              "      <td>0.566667</td>\n",
              "      <td>0.403316</td>\n",
              "    </tr>\n",
              "    <tr>\n",
              "      <th>3</th>\n",
              "      <td>0.535603</td>\n",
              "      <td>0.777778</td>\n",
              "      <td>0.463549</td>\n",
              "      <td>0.463549</td>\n",
              "      <td>0.463549</td>\n",
              "      <td>0.0</td>\n",
              "      <td>0.463549</td>\n",
              "      <td>0.733333</td>\n",
              "      <td>0.535603</td>\n",
              "    </tr>\n",
              "    <tr>\n",
              "      <th>4</th>\n",
              "      <td>0.848131</td>\n",
              "      <td>0.666667</td>\n",
              "      <td>0.604377</td>\n",
              "      <td>0.604377</td>\n",
              "      <td>0.604377</td>\n",
              "      <td>0.0</td>\n",
              "      <td>0.604377</td>\n",
              "      <td>0.216667</td>\n",
              "      <td>0.848131</td>\n",
              "    </tr>\n",
              "    <tr>\n",
              "      <th>...</th>\n",
              "      <td>...</td>\n",
              "      <td>...</td>\n",
              "      <td>...</td>\n",
              "      <td>...</td>\n",
              "      <td>...</td>\n",
              "      <td>...</td>\n",
              "      <td>...</td>\n",
              "      <td>...</td>\n",
              "      <td>...</td>\n",
              "    </tr>\n",
              "    <tr>\n",
              "      <th>995</th>\n",
              "      <td>0.336782</td>\n",
              "      <td>0.000000</td>\n",
              "      <td>0.030707</td>\n",
              "      <td>0.030707</td>\n",
              "      <td>0.030707</td>\n",
              "      <td>0.0</td>\n",
              "      <td>0.030707</td>\n",
              "      <td>0.366667</td>\n",
              "      <td>0.336782</td>\n",
              "    </tr>\n",
              "    <tr>\n",
              "      <th>996</th>\n",
              "      <td>0.971295</td>\n",
              "      <td>1.000000</td>\n",
              "      <td>0.980465</td>\n",
              "      <td>0.980465</td>\n",
              "      <td>0.980465</td>\n",
              "      <td>0.0</td>\n",
              "      <td>0.980465</td>\n",
              "      <td>0.066667</td>\n",
              "      <td>0.971295</td>\n",
              "    </tr>\n",
              "    <tr>\n",
              "      <th>997</th>\n",
              "      <td>0.242101</td>\n",
              "      <td>0.000000</td>\n",
              "      <td>0.022049</td>\n",
              "      <td>0.022049</td>\n",
              "      <td>0.022049</td>\n",
              "      <td>0.0</td>\n",
              "      <td>0.022049</td>\n",
              "      <td>0.616667</td>\n",
              "      <td>0.242101</td>\n",
              "    </tr>\n",
              "    <tr>\n",
              "      <th>998</th>\n",
              "      <td>0.620160</td>\n",
              "      <td>0.000000</td>\n",
              "      <td>0.056622</td>\n",
              "      <td>0.056622</td>\n",
              "      <td>0.056622</td>\n",
              "      <td>0.0</td>\n",
              "      <td>0.056622</td>\n",
              "      <td>0.016667</td>\n",
              "      <td>0.620160</td>\n",
              "    </tr>\n",
              "    <tr>\n",
              "      <th>999</th>\n",
              "      <td>0.870717</td>\n",
              "      <td>0.666667</td>\n",
              "      <td>0.618835</td>\n",
              "      <td>0.618835</td>\n",
              "      <td>0.618835</td>\n",
              "      <td>0.0</td>\n",
              "      <td>0.618835</td>\n",
              "      <td>0.433333</td>\n",
              "      <td>0.870717</td>\n",
              "    </tr>\n",
              "  </tbody>\n",
              "</table>\n",
              "<p>1000 rows × 9 columns</p>\n",
              "</div>"
            ],
            "text/plain": [
              "     Unit price  Quantity    Tax 5%  ...  gross income    Rating  TotalbyQuantity\n",
              "0      0.718847  0.666667  0.521616  ...      0.521616  0.850000         0.718847\n",
              "1      0.057855  0.444444  0.067387  ...      0.067387  0.933333         0.057855\n",
              "2      0.403316  0.666667  0.319628  ...      0.319628  0.566667         0.403316\n",
              "3      0.535603  0.777778  0.463549  ...      0.463549  0.733333         0.535603\n",
              "4      0.848131  0.666667  0.604377  ...      0.604377  0.216667         0.848131\n",
              "..          ...       ...       ...  ...           ...       ...              ...\n",
              "995    0.336782  0.000000  0.030707  ...      0.030707  0.366667         0.336782\n",
              "996    0.971295  1.000000  0.980465  ...      0.980465  0.066667         0.971295\n",
              "997    0.242101  0.000000  0.022049  ...      0.022049  0.616667         0.242101\n",
              "998    0.620160  0.000000  0.056622  ...      0.056622  0.016667         0.620160\n",
              "999    0.870717  0.666667  0.618835  ...      0.618835  0.433333         0.870717\n",
              "\n",
              "[1000 rows x 9 columns]"
            ]
          },
          "metadata": {
            "tags": []
          },
          "execution_count": 34
        }
      ]
    },
    {
      "cell_type": "code",
      "metadata": {
        "colab": {
          "base_uri": "https://localhost:8080/",
          "height": 462
        },
        "id": "VENPykynbbzJ",
        "outputId": "53938aeb-0d33-4006-ca0b-23b3917dbbfe"
      },
      "source": [
        "data=data.drop(['Unit price','Quantity','Tax 5%','Total','cogs','gross margin percentage','gross income','Rating','TotalbyQuantity'],axis=1)\n",
        "data = pd.concat([data,num],axis=1)\n",
        "data.head()"
      ],
      "execution_count": null,
      "outputs": [
        {
          "output_type": "execute_result",
          "data": {
            "text/html": [
              "<div>\n",
              "<style scoped>\n",
              "    .dataframe tbody tr th:only-of-type {\n",
              "        vertical-align: middle;\n",
              "    }\n",
              "\n",
              "    .dataframe tbody tr th {\n",
              "        vertical-align: top;\n",
              "    }\n",
              "\n",
              "    .dataframe thead th {\n",
              "        text-align: right;\n",
              "    }\n",
              "</style>\n",
              "<table border=\"1\" class=\"dataframe\">\n",
              "  <thead>\n",
              "    <tr style=\"text-align: right;\">\n",
              "      <th></th>\n",
              "      <th>DateTime</th>\n",
              "      <th>Invoice ID_101-81-4070</th>\n",
              "      <th>Invoice ID_102-06-2002</th>\n",
              "      <th>Invoice ID_102-77-2261</th>\n",
              "      <th>Invoice ID_105-10-6182</th>\n",
              "      <th>Invoice ID_105-31-1824</th>\n",
              "      <th>Invoice ID_106-35-6779</th>\n",
              "      <th>Invoice ID_109-28-2512</th>\n",
              "      <th>Invoice ID_109-86-4363</th>\n",
              "      <th>Invoice ID_110-05-6330</th>\n",
              "      <th>Invoice ID_110-48-7033</th>\n",
              "      <th>Invoice ID_114-35-5271</th>\n",
              "      <th>Invoice ID_115-38-7388</th>\n",
              "      <th>Invoice ID_115-99-4379</th>\n",
              "      <th>Invoice ID_118-62-1812</th>\n",
              "      <th>Invoice ID_120-06-4233</th>\n",
              "      <th>Invoice ID_120-54-2248</th>\n",
              "      <th>Invoice ID_122-61-9553</th>\n",
              "      <th>Invoice ID_123-19-1176</th>\n",
              "      <th>Invoice ID_123-35-4896</th>\n",
              "      <th>Invoice ID_124-31-1458</th>\n",
              "      <th>Invoice ID_125-45-2293</th>\n",
              "      <th>Invoice ID_126-54-1082</th>\n",
              "      <th>Invoice ID_127-47-6963</th>\n",
              "      <th>Invoice ID_129-29-8530</th>\n",
              "      <th>Invoice ID_130-67-4723</th>\n",
              "      <th>Invoice ID_130-98-8941</th>\n",
              "      <th>Invoice ID_131-15-8856</th>\n",
              "      <th>Invoice ID_131-70-8179</th>\n",
              "      <th>Invoice ID_132-23-6451</th>\n",
              "      <th>Invoice ID_132-32-9879</th>\n",
              "      <th>Invoice ID_133-14-7229</th>\n",
              "      <th>Invoice ID_133-77-3154</th>\n",
              "      <th>Invoice ID_134-54-4720</th>\n",
              "      <th>Invoice ID_134-75-2619</th>\n",
              "      <th>Invoice ID_135-13-8269</th>\n",
              "      <th>Invoice ID_135-84-8019</th>\n",
              "      <th>Invoice ID_136-08-6195</th>\n",
              "      <th>Invoice ID_137-63-5492</th>\n",
              "      <th>Invoice ID_137-74-8729</th>\n",
              "      <th>...</th>\n",
              "      <th>Invoice ID_882-40-4577</th>\n",
              "      <th>Invoice ID_883-17-4236</th>\n",
              "      <th>Invoice ID_883-69-1285</th>\n",
              "      <th>Invoice ID_884-80-6021</th>\n",
              "      <th>Invoice ID_885-17-6250</th>\n",
              "      <th>Invoice ID_885-56-0389</th>\n",
              "      <th>Invoice ID_886-18-2897</th>\n",
              "      <th>Invoice ID_886-54-6089</th>\n",
              "      <th>Invoice ID_886-77-9084</th>\n",
              "      <th>Invoice ID_887-42-0517</th>\n",
              "      <th>Invoice ID_888-02-0338</th>\n",
              "      <th>Invoice ID_889-04-9723</th>\n",
              "      <th>Invoice ID_891-01-7034</th>\n",
              "      <th>Invoice ID_891-58-8335</th>\n",
              "      <th>Invoice ID_892-05-6689</th>\n",
              "      <th>Invoice ID_894-41-5205</th>\n",
              "      <th>Invoice ID_895-03-6665</th>\n",
              "      <th>Invoice ID_895-66-0685</th>\n",
              "      <th>Invoice ID_896-34-0956</th>\n",
              "      <th>Invoice ID_898-04-2717</th>\n",
              "      <th>Branch_B</th>\n",
              "      <th>Branch_C</th>\n",
              "      <th>Customer type_Normal</th>\n",
              "      <th>Gender_Male</th>\n",
              "      <th>Product line_Fashion accessories</th>\n",
              "      <th>Product line_Food and beverages</th>\n",
              "      <th>Product line_Health and beauty</th>\n",
              "      <th>Product line_Home and lifestyle</th>\n",
              "      <th>Product line_Sports and travel</th>\n",
              "      <th>Payment_Credit card</th>\n",
              "      <th>Payment_Ewallet</th>\n",
              "      <th>Unit price</th>\n",
              "      <th>Quantity</th>\n",
              "      <th>Tax 5%</th>\n",
              "      <th>Total</th>\n",
              "      <th>cogs</th>\n",
              "      <th>gross margin percentage</th>\n",
              "      <th>gross income</th>\n",
              "      <th>Rating</th>\n",
              "      <th>TotalbyQuantity</th>\n",
              "    </tr>\n",
              "  </thead>\n",
              "  <tbody>\n",
              "    <tr>\n",
              "      <th>0</th>\n",
              "      <td>2019-01-05 13:08:00</td>\n",
              "      <td>0</td>\n",
              "      <td>0</td>\n",
              "      <td>0</td>\n",
              "      <td>0</td>\n",
              "      <td>0</td>\n",
              "      <td>0</td>\n",
              "      <td>0</td>\n",
              "      <td>0</td>\n",
              "      <td>0</td>\n",
              "      <td>0</td>\n",
              "      <td>0</td>\n",
              "      <td>0</td>\n",
              "      <td>0</td>\n",
              "      <td>0</td>\n",
              "      <td>0</td>\n",
              "      <td>0</td>\n",
              "      <td>0</td>\n",
              "      <td>0</td>\n",
              "      <td>0</td>\n",
              "      <td>0</td>\n",
              "      <td>0</td>\n",
              "      <td>0</td>\n",
              "      <td>0</td>\n",
              "      <td>0</td>\n",
              "      <td>0</td>\n",
              "      <td>0</td>\n",
              "      <td>0</td>\n",
              "      <td>0</td>\n",
              "      <td>0</td>\n",
              "      <td>0</td>\n",
              "      <td>0</td>\n",
              "      <td>0</td>\n",
              "      <td>0</td>\n",
              "      <td>0</td>\n",
              "      <td>0</td>\n",
              "      <td>0</td>\n",
              "      <td>0</td>\n",
              "      <td>0</td>\n",
              "      <td>0</td>\n",
              "      <td>...</td>\n",
              "      <td>0</td>\n",
              "      <td>0</td>\n",
              "      <td>0</td>\n",
              "      <td>0</td>\n",
              "      <td>0</td>\n",
              "      <td>0</td>\n",
              "      <td>0</td>\n",
              "      <td>0</td>\n",
              "      <td>0</td>\n",
              "      <td>0</td>\n",
              "      <td>0</td>\n",
              "      <td>0</td>\n",
              "      <td>0</td>\n",
              "      <td>0</td>\n",
              "      <td>0</td>\n",
              "      <td>0</td>\n",
              "      <td>0</td>\n",
              "      <td>0</td>\n",
              "      <td>0</td>\n",
              "      <td>0</td>\n",
              "      <td>0</td>\n",
              "      <td>0</td>\n",
              "      <td>0</td>\n",
              "      <td>0</td>\n",
              "      <td>0</td>\n",
              "      <td>0</td>\n",
              "      <td>1</td>\n",
              "      <td>0</td>\n",
              "      <td>0</td>\n",
              "      <td>0</td>\n",
              "      <td>1</td>\n",
              "      <td>0.718847</td>\n",
              "      <td>0.666667</td>\n",
              "      <td>0.521616</td>\n",
              "      <td>0.521616</td>\n",
              "      <td>0.521616</td>\n",
              "      <td>0.0</td>\n",
              "      <td>0.521616</td>\n",
              "      <td>0.850000</td>\n",
              "      <td>0.718847</td>\n",
              "    </tr>\n",
              "    <tr>\n",
              "      <th>1</th>\n",
              "      <td>2019-03-08 10:29:00</td>\n",
              "      <td>0</td>\n",
              "      <td>0</td>\n",
              "      <td>0</td>\n",
              "      <td>0</td>\n",
              "      <td>0</td>\n",
              "      <td>0</td>\n",
              "      <td>0</td>\n",
              "      <td>0</td>\n",
              "      <td>0</td>\n",
              "      <td>0</td>\n",
              "      <td>0</td>\n",
              "      <td>0</td>\n",
              "      <td>0</td>\n",
              "      <td>0</td>\n",
              "      <td>0</td>\n",
              "      <td>0</td>\n",
              "      <td>0</td>\n",
              "      <td>0</td>\n",
              "      <td>0</td>\n",
              "      <td>0</td>\n",
              "      <td>0</td>\n",
              "      <td>0</td>\n",
              "      <td>0</td>\n",
              "      <td>0</td>\n",
              "      <td>0</td>\n",
              "      <td>0</td>\n",
              "      <td>0</td>\n",
              "      <td>0</td>\n",
              "      <td>0</td>\n",
              "      <td>0</td>\n",
              "      <td>0</td>\n",
              "      <td>0</td>\n",
              "      <td>0</td>\n",
              "      <td>0</td>\n",
              "      <td>0</td>\n",
              "      <td>0</td>\n",
              "      <td>0</td>\n",
              "      <td>0</td>\n",
              "      <td>0</td>\n",
              "      <td>...</td>\n",
              "      <td>0</td>\n",
              "      <td>0</td>\n",
              "      <td>0</td>\n",
              "      <td>0</td>\n",
              "      <td>0</td>\n",
              "      <td>0</td>\n",
              "      <td>0</td>\n",
              "      <td>0</td>\n",
              "      <td>0</td>\n",
              "      <td>0</td>\n",
              "      <td>0</td>\n",
              "      <td>0</td>\n",
              "      <td>0</td>\n",
              "      <td>0</td>\n",
              "      <td>0</td>\n",
              "      <td>0</td>\n",
              "      <td>0</td>\n",
              "      <td>0</td>\n",
              "      <td>0</td>\n",
              "      <td>0</td>\n",
              "      <td>0</td>\n",
              "      <td>1</td>\n",
              "      <td>1</td>\n",
              "      <td>0</td>\n",
              "      <td>0</td>\n",
              "      <td>0</td>\n",
              "      <td>0</td>\n",
              "      <td>0</td>\n",
              "      <td>0</td>\n",
              "      <td>0</td>\n",
              "      <td>0</td>\n",
              "      <td>0.057855</td>\n",
              "      <td>0.444444</td>\n",
              "      <td>0.067387</td>\n",
              "      <td>0.067387</td>\n",
              "      <td>0.067387</td>\n",
              "      <td>0.0</td>\n",
              "      <td>0.067387</td>\n",
              "      <td>0.933333</td>\n",
              "      <td>0.057855</td>\n",
              "    </tr>\n",
              "    <tr>\n",
              "      <th>2</th>\n",
              "      <td>2019-03-03 13:23:00</td>\n",
              "      <td>0</td>\n",
              "      <td>0</td>\n",
              "      <td>0</td>\n",
              "      <td>0</td>\n",
              "      <td>0</td>\n",
              "      <td>0</td>\n",
              "      <td>0</td>\n",
              "      <td>0</td>\n",
              "      <td>0</td>\n",
              "      <td>0</td>\n",
              "      <td>0</td>\n",
              "      <td>0</td>\n",
              "      <td>0</td>\n",
              "      <td>0</td>\n",
              "      <td>0</td>\n",
              "      <td>0</td>\n",
              "      <td>0</td>\n",
              "      <td>0</td>\n",
              "      <td>0</td>\n",
              "      <td>0</td>\n",
              "      <td>0</td>\n",
              "      <td>0</td>\n",
              "      <td>0</td>\n",
              "      <td>0</td>\n",
              "      <td>0</td>\n",
              "      <td>0</td>\n",
              "      <td>0</td>\n",
              "      <td>0</td>\n",
              "      <td>0</td>\n",
              "      <td>0</td>\n",
              "      <td>0</td>\n",
              "      <td>0</td>\n",
              "      <td>0</td>\n",
              "      <td>0</td>\n",
              "      <td>0</td>\n",
              "      <td>0</td>\n",
              "      <td>0</td>\n",
              "      <td>0</td>\n",
              "      <td>0</td>\n",
              "      <td>...</td>\n",
              "      <td>0</td>\n",
              "      <td>0</td>\n",
              "      <td>0</td>\n",
              "      <td>0</td>\n",
              "      <td>0</td>\n",
              "      <td>0</td>\n",
              "      <td>0</td>\n",
              "      <td>0</td>\n",
              "      <td>0</td>\n",
              "      <td>0</td>\n",
              "      <td>0</td>\n",
              "      <td>0</td>\n",
              "      <td>0</td>\n",
              "      <td>0</td>\n",
              "      <td>0</td>\n",
              "      <td>0</td>\n",
              "      <td>0</td>\n",
              "      <td>0</td>\n",
              "      <td>0</td>\n",
              "      <td>0</td>\n",
              "      <td>0</td>\n",
              "      <td>0</td>\n",
              "      <td>1</td>\n",
              "      <td>1</td>\n",
              "      <td>0</td>\n",
              "      <td>0</td>\n",
              "      <td>0</td>\n",
              "      <td>1</td>\n",
              "      <td>0</td>\n",
              "      <td>1</td>\n",
              "      <td>0</td>\n",
              "      <td>0.403316</td>\n",
              "      <td>0.666667</td>\n",
              "      <td>0.319628</td>\n",
              "      <td>0.319628</td>\n",
              "      <td>0.319628</td>\n",
              "      <td>0.0</td>\n",
              "      <td>0.319628</td>\n",
              "      <td>0.566667</td>\n",
              "      <td>0.403316</td>\n",
              "    </tr>\n",
              "    <tr>\n",
              "      <th>3</th>\n",
              "      <td>2019-01-27 20:33:00</td>\n",
              "      <td>0</td>\n",
              "      <td>0</td>\n",
              "      <td>0</td>\n",
              "      <td>0</td>\n",
              "      <td>0</td>\n",
              "      <td>0</td>\n",
              "      <td>0</td>\n",
              "      <td>0</td>\n",
              "      <td>0</td>\n",
              "      <td>0</td>\n",
              "      <td>0</td>\n",
              "      <td>0</td>\n",
              "      <td>0</td>\n",
              "      <td>0</td>\n",
              "      <td>0</td>\n",
              "      <td>0</td>\n",
              "      <td>0</td>\n",
              "      <td>1</td>\n",
              "      <td>0</td>\n",
              "      <td>0</td>\n",
              "      <td>0</td>\n",
              "      <td>0</td>\n",
              "      <td>0</td>\n",
              "      <td>0</td>\n",
              "      <td>0</td>\n",
              "      <td>0</td>\n",
              "      <td>0</td>\n",
              "      <td>0</td>\n",
              "      <td>0</td>\n",
              "      <td>0</td>\n",
              "      <td>0</td>\n",
              "      <td>0</td>\n",
              "      <td>0</td>\n",
              "      <td>0</td>\n",
              "      <td>0</td>\n",
              "      <td>0</td>\n",
              "      <td>0</td>\n",
              "      <td>0</td>\n",
              "      <td>0</td>\n",
              "      <td>...</td>\n",
              "      <td>0</td>\n",
              "      <td>0</td>\n",
              "      <td>0</td>\n",
              "      <td>0</td>\n",
              "      <td>0</td>\n",
              "      <td>0</td>\n",
              "      <td>0</td>\n",
              "      <td>0</td>\n",
              "      <td>0</td>\n",
              "      <td>0</td>\n",
              "      <td>0</td>\n",
              "      <td>0</td>\n",
              "      <td>0</td>\n",
              "      <td>0</td>\n",
              "      <td>0</td>\n",
              "      <td>0</td>\n",
              "      <td>0</td>\n",
              "      <td>0</td>\n",
              "      <td>0</td>\n",
              "      <td>0</td>\n",
              "      <td>0</td>\n",
              "      <td>0</td>\n",
              "      <td>0</td>\n",
              "      <td>1</td>\n",
              "      <td>0</td>\n",
              "      <td>0</td>\n",
              "      <td>1</td>\n",
              "      <td>0</td>\n",
              "      <td>0</td>\n",
              "      <td>0</td>\n",
              "      <td>1</td>\n",
              "      <td>0.535603</td>\n",
              "      <td>0.777778</td>\n",
              "      <td>0.463549</td>\n",
              "      <td>0.463549</td>\n",
              "      <td>0.463549</td>\n",
              "      <td>0.0</td>\n",
              "      <td>0.463549</td>\n",
              "      <td>0.733333</td>\n",
              "      <td>0.535603</td>\n",
              "    </tr>\n",
              "    <tr>\n",
              "      <th>4</th>\n",
              "      <td>2019-02-08 10:37:00</td>\n",
              "      <td>0</td>\n",
              "      <td>0</td>\n",
              "      <td>0</td>\n",
              "      <td>0</td>\n",
              "      <td>0</td>\n",
              "      <td>0</td>\n",
              "      <td>0</td>\n",
              "      <td>0</td>\n",
              "      <td>0</td>\n",
              "      <td>0</td>\n",
              "      <td>0</td>\n",
              "      <td>0</td>\n",
              "      <td>0</td>\n",
              "      <td>0</td>\n",
              "      <td>0</td>\n",
              "      <td>0</td>\n",
              "      <td>0</td>\n",
              "      <td>0</td>\n",
              "      <td>0</td>\n",
              "      <td>0</td>\n",
              "      <td>0</td>\n",
              "      <td>0</td>\n",
              "      <td>0</td>\n",
              "      <td>0</td>\n",
              "      <td>0</td>\n",
              "      <td>0</td>\n",
              "      <td>0</td>\n",
              "      <td>0</td>\n",
              "      <td>0</td>\n",
              "      <td>0</td>\n",
              "      <td>0</td>\n",
              "      <td>0</td>\n",
              "      <td>0</td>\n",
              "      <td>0</td>\n",
              "      <td>0</td>\n",
              "      <td>0</td>\n",
              "      <td>0</td>\n",
              "      <td>0</td>\n",
              "      <td>0</td>\n",
              "      <td>...</td>\n",
              "      <td>0</td>\n",
              "      <td>0</td>\n",
              "      <td>0</td>\n",
              "      <td>0</td>\n",
              "      <td>0</td>\n",
              "      <td>0</td>\n",
              "      <td>0</td>\n",
              "      <td>0</td>\n",
              "      <td>0</td>\n",
              "      <td>0</td>\n",
              "      <td>0</td>\n",
              "      <td>0</td>\n",
              "      <td>0</td>\n",
              "      <td>0</td>\n",
              "      <td>0</td>\n",
              "      <td>0</td>\n",
              "      <td>0</td>\n",
              "      <td>0</td>\n",
              "      <td>0</td>\n",
              "      <td>0</td>\n",
              "      <td>0</td>\n",
              "      <td>0</td>\n",
              "      <td>1</td>\n",
              "      <td>1</td>\n",
              "      <td>0</td>\n",
              "      <td>0</td>\n",
              "      <td>0</td>\n",
              "      <td>0</td>\n",
              "      <td>1</td>\n",
              "      <td>0</td>\n",
              "      <td>1</td>\n",
              "      <td>0.848131</td>\n",
              "      <td>0.666667</td>\n",
              "      <td>0.604377</td>\n",
              "      <td>0.604377</td>\n",
              "      <td>0.604377</td>\n",
              "      <td>0.0</td>\n",
              "      <td>0.604377</td>\n",
              "      <td>0.216667</td>\n",
              "      <td>0.848131</td>\n",
              "    </tr>\n",
              "  </tbody>\n",
              "</table>\n",
              "<p>5 rows × 1020 columns</p>\n",
              "</div>"
            ],
            "text/plain": [
              "             DateTime  Invoice ID_101-81-4070  ...    Rating  TotalbyQuantity\n",
              "0 2019-01-05 13:08:00                       0  ...  0.850000         0.718847\n",
              "1 2019-03-08 10:29:00                       0  ...  0.933333         0.057855\n",
              "2 2019-03-03 13:23:00                       0  ...  0.566667         0.403316\n",
              "3 2019-01-27 20:33:00                       0  ...  0.733333         0.535603\n",
              "4 2019-02-08 10:37:00                       0  ...  0.216667         0.848131\n",
              "\n",
              "[5 rows x 1020 columns]"
            ]
          },
          "metadata": {
            "tags": []
          },
          "execution_count": 35
        }
      ]
    },
    {
      "cell_type": "code",
      "metadata": {
        "id": "taFFt_yubgD4"
      },
      "source": [
        "data = data.drop(['DateTime'],axis=1)\n",
        "#Splitting Datas\n",
        "X = data.drop(['Total'],axis=1)\n",
        "y = data['Total']"
      ],
      "execution_count": null,
      "outputs": []
    },
    {
      "cell_type": "code",
      "metadata": {
        "colab": {
          "base_uri": "https://localhost:8080/",
          "height": 472
        },
        "id": "kwOsOGXfjyrn",
        "outputId": "4c611c7b-22df-49f6-c12c-5687825b035b"
      },
      "source": [
        "X"
      ],
      "execution_count": null,
      "outputs": [
        {
          "output_type": "execute_result",
          "data": {
            "text/html": [
              "<div>\n",
              "<style scoped>\n",
              "    .dataframe tbody tr th:only-of-type {\n",
              "        vertical-align: middle;\n",
              "    }\n",
              "\n",
              "    .dataframe tbody tr th {\n",
              "        vertical-align: top;\n",
              "    }\n",
              "\n",
              "    .dataframe thead th {\n",
              "        text-align: right;\n",
              "    }\n",
              "</style>\n",
              "<table border=\"1\" class=\"dataframe\">\n",
              "  <thead>\n",
              "    <tr style=\"text-align: right;\">\n",
              "      <th></th>\n",
              "      <th>Invoice ID_101-81-4070</th>\n",
              "      <th>Invoice ID_102-06-2002</th>\n",
              "      <th>Invoice ID_102-77-2261</th>\n",
              "      <th>Invoice ID_105-10-6182</th>\n",
              "      <th>Invoice ID_105-31-1824</th>\n",
              "      <th>Invoice ID_106-35-6779</th>\n",
              "      <th>Invoice ID_109-28-2512</th>\n",
              "      <th>Invoice ID_109-86-4363</th>\n",
              "      <th>Invoice ID_110-05-6330</th>\n",
              "      <th>Invoice ID_110-48-7033</th>\n",
              "      <th>Invoice ID_114-35-5271</th>\n",
              "      <th>Invoice ID_115-38-7388</th>\n",
              "      <th>Invoice ID_115-99-4379</th>\n",
              "      <th>Invoice ID_118-62-1812</th>\n",
              "      <th>Invoice ID_120-06-4233</th>\n",
              "      <th>Invoice ID_120-54-2248</th>\n",
              "      <th>Invoice ID_122-61-9553</th>\n",
              "      <th>Invoice ID_123-19-1176</th>\n",
              "      <th>Invoice ID_123-35-4896</th>\n",
              "      <th>Invoice ID_124-31-1458</th>\n",
              "      <th>Invoice ID_125-45-2293</th>\n",
              "      <th>Invoice ID_126-54-1082</th>\n",
              "      <th>Invoice ID_127-47-6963</th>\n",
              "      <th>Invoice ID_129-29-8530</th>\n",
              "      <th>Invoice ID_130-67-4723</th>\n",
              "      <th>Invoice ID_130-98-8941</th>\n",
              "      <th>Invoice ID_131-15-8856</th>\n",
              "      <th>Invoice ID_131-70-8179</th>\n",
              "      <th>Invoice ID_132-23-6451</th>\n",
              "      <th>Invoice ID_132-32-9879</th>\n",
              "      <th>Invoice ID_133-14-7229</th>\n",
              "      <th>Invoice ID_133-77-3154</th>\n",
              "      <th>Invoice ID_134-54-4720</th>\n",
              "      <th>Invoice ID_134-75-2619</th>\n",
              "      <th>Invoice ID_135-13-8269</th>\n",
              "      <th>Invoice ID_135-84-8019</th>\n",
              "      <th>Invoice ID_136-08-6195</th>\n",
              "      <th>Invoice ID_137-63-5492</th>\n",
              "      <th>Invoice ID_137-74-8729</th>\n",
              "      <th>Invoice ID_138-17-5109</th>\n",
              "      <th>...</th>\n",
              "      <th>Invoice ID_881-41-7302</th>\n",
              "      <th>Invoice ID_882-40-4577</th>\n",
              "      <th>Invoice ID_883-17-4236</th>\n",
              "      <th>Invoice ID_883-69-1285</th>\n",
              "      <th>Invoice ID_884-80-6021</th>\n",
              "      <th>Invoice ID_885-17-6250</th>\n",
              "      <th>Invoice ID_885-56-0389</th>\n",
              "      <th>Invoice ID_886-18-2897</th>\n",
              "      <th>Invoice ID_886-54-6089</th>\n",
              "      <th>Invoice ID_886-77-9084</th>\n",
              "      <th>Invoice ID_887-42-0517</th>\n",
              "      <th>Invoice ID_888-02-0338</th>\n",
              "      <th>Invoice ID_889-04-9723</th>\n",
              "      <th>Invoice ID_891-01-7034</th>\n",
              "      <th>Invoice ID_891-58-8335</th>\n",
              "      <th>Invoice ID_892-05-6689</th>\n",
              "      <th>Invoice ID_894-41-5205</th>\n",
              "      <th>Invoice ID_895-03-6665</th>\n",
              "      <th>Invoice ID_895-66-0685</th>\n",
              "      <th>Invoice ID_896-34-0956</th>\n",
              "      <th>Invoice ID_898-04-2717</th>\n",
              "      <th>Branch_B</th>\n",
              "      <th>Branch_C</th>\n",
              "      <th>Customer type_Normal</th>\n",
              "      <th>Gender_Male</th>\n",
              "      <th>Product line_Fashion accessories</th>\n",
              "      <th>Product line_Food and beverages</th>\n",
              "      <th>Product line_Health and beauty</th>\n",
              "      <th>Product line_Home and lifestyle</th>\n",
              "      <th>Product line_Sports and travel</th>\n",
              "      <th>Payment_Credit card</th>\n",
              "      <th>Payment_Ewallet</th>\n",
              "      <th>Unit price</th>\n",
              "      <th>Quantity</th>\n",
              "      <th>Tax 5%</th>\n",
              "      <th>cogs</th>\n",
              "      <th>gross margin percentage</th>\n",
              "      <th>gross income</th>\n",
              "      <th>Rating</th>\n",
              "      <th>TotalbyQuantity</th>\n",
              "    </tr>\n",
              "  </thead>\n",
              "  <tbody>\n",
              "    <tr>\n",
              "      <th>0</th>\n",
              "      <td>0</td>\n",
              "      <td>0</td>\n",
              "      <td>0</td>\n",
              "      <td>0</td>\n",
              "      <td>0</td>\n",
              "      <td>0</td>\n",
              "      <td>0</td>\n",
              "      <td>0</td>\n",
              "      <td>0</td>\n",
              "      <td>0</td>\n",
              "      <td>0</td>\n",
              "      <td>0</td>\n",
              "      <td>0</td>\n",
              "      <td>0</td>\n",
              "      <td>0</td>\n",
              "      <td>0</td>\n",
              "      <td>0</td>\n",
              "      <td>0</td>\n",
              "      <td>0</td>\n",
              "      <td>0</td>\n",
              "      <td>0</td>\n",
              "      <td>0</td>\n",
              "      <td>0</td>\n",
              "      <td>0</td>\n",
              "      <td>0</td>\n",
              "      <td>0</td>\n",
              "      <td>0</td>\n",
              "      <td>0</td>\n",
              "      <td>0</td>\n",
              "      <td>0</td>\n",
              "      <td>0</td>\n",
              "      <td>0</td>\n",
              "      <td>0</td>\n",
              "      <td>0</td>\n",
              "      <td>0</td>\n",
              "      <td>0</td>\n",
              "      <td>0</td>\n",
              "      <td>0</td>\n",
              "      <td>0</td>\n",
              "      <td>0</td>\n",
              "      <td>...</td>\n",
              "      <td>0</td>\n",
              "      <td>0</td>\n",
              "      <td>0</td>\n",
              "      <td>0</td>\n",
              "      <td>0</td>\n",
              "      <td>0</td>\n",
              "      <td>0</td>\n",
              "      <td>0</td>\n",
              "      <td>0</td>\n",
              "      <td>0</td>\n",
              "      <td>0</td>\n",
              "      <td>0</td>\n",
              "      <td>0</td>\n",
              "      <td>0</td>\n",
              "      <td>0</td>\n",
              "      <td>0</td>\n",
              "      <td>0</td>\n",
              "      <td>0</td>\n",
              "      <td>0</td>\n",
              "      <td>0</td>\n",
              "      <td>0</td>\n",
              "      <td>0</td>\n",
              "      <td>0</td>\n",
              "      <td>0</td>\n",
              "      <td>0</td>\n",
              "      <td>0</td>\n",
              "      <td>0</td>\n",
              "      <td>1</td>\n",
              "      <td>0</td>\n",
              "      <td>0</td>\n",
              "      <td>0</td>\n",
              "      <td>1</td>\n",
              "      <td>0.718847</td>\n",
              "      <td>0.666667</td>\n",
              "      <td>0.521616</td>\n",
              "      <td>0.521616</td>\n",
              "      <td>0.0</td>\n",
              "      <td>0.521616</td>\n",
              "      <td>0.850000</td>\n",
              "      <td>0.718847</td>\n",
              "    </tr>\n",
              "    <tr>\n",
              "      <th>1</th>\n",
              "      <td>0</td>\n",
              "      <td>0</td>\n",
              "      <td>0</td>\n",
              "      <td>0</td>\n",
              "      <td>0</td>\n",
              "      <td>0</td>\n",
              "      <td>0</td>\n",
              "      <td>0</td>\n",
              "      <td>0</td>\n",
              "      <td>0</td>\n",
              "      <td>0</td>\n",
              "      <td>0</td>\n",
              "      <td>0</td>\n",
              "      <td>0</td>\n",
              "      <td>0</td>\n",
              "      <td>0</td>\n",
              "      <td>0</td>\n",
              "      <td>0</td>\n",
              "      <td>0</td>\n",
              "      <td>0</td>\n",
              "      <td>0</td>\n",
              "      <td>0</td>\n",
              "      <td>0</td>\n",
              "      <td>0</td>\n",
              "      <td>0</td>\n",
              "      <td>0</td>\n",
              "      <td>0</td>\n",
              "      <td>0</td>\n",
              "      <td>0</td>\n",
              "      <td>0</td>\n",
              "      <td>0</td>\n",
              "      <td>0</td>\n",
              "      <td>0</td>\n",
              "      <td>0</td>\n",
              "      <td>0</td>\n",
              "      <td>0</td>\n",
              "      <td>0</td>\n",
              "      <td>0</td>\n",
              "      <td>0</td>\n",
              "      <td>0</td>\n",
              "      <td>...</td>\n",
              "      <td>0</td>\n",
              "      <td>0</td>\n",
              "      <td>0</td>\n",
              "      <td>0</td>\n",
              "      <td>0</td>\n",
              "      <td>0</td>\n",
              "      <td>0</td>\n",
              "      <td>0</td>\n",
              "      <td>0</td>\n",
              "      <td>0</td>\n",
              "      <td>0</td>\n",
              "      <td>0</td>\n",
              "      <td>0</td>\n",
              "      <td>0</td>\n",
              "      <td>0</td>\n",
              "      <td>0</td>\n",
              "      <td>0</td>\n",
              "      <td>0</td>\n",
              "      <td>0</td>\n",
              "      <td>0</td>\n",
              "      <td>0</td>\n",
              "      <td>0</td>\n",
              "      <td>1</td>\n",
              "      <td>1</td>\n",
              "      <td>0</td>\n",
              "      <td>0</td>\n",
              "      <td>0</td>\n",
              "      <td>0</td>\n",
              "      <td>0</td>\n",
              "      <td>0</td>\n",
              "      <td>0</td>\n",
              "      <td>0</td>\n",
              "      <td>0.057855</td>\n",
              "      <td>0.444444</td>\n",
              "      <td>0.067387</td>\n",
              "      <td>0.067387</td>\n",
              "      <td>0.0</td>\n",
              "      <td>0.067387</td>\n",
              "      <td>0.933333</td>\n",
              "      <td>0.057855</td>\n",
              "    </tr>\n",
              "    <tr>\n",
              "      <th>2</th>\n",
              "      <td>0</td>\n",
              "      <td>0</td>\n",
              "      <td>0</td>\n",
              "      <td>0</td>\n",
              "      <td>0</td>\n",
              "      <td>0</td>\n",
              "      <td>0</td>\n",
              "      <td>0</td>\n",
              "      <td>0</td>\n",
              "      <td>0</td>\n",
              "      <td>0</td>\n",
              "      <td>0</td>\n",
              "      <td>0</td>\n",
              "      <td>0</td>\n",
              "      <td>0</td>\n",
              "      <td>0</td>\n",
              "      <td>0</td>\n",
              "      <td>0</td>\n",
              "      <td>0</td>\n",
              "      <td>0</td>\n",
              "      <td>0</td>\n",
              "      <td>0</td>\n",
              "      <td>0</td>\n",
              "      <td>0</td>\n",
              "      <td>0</td>\n",
              "      <td>0</td>\n",
              "      <td>0</td>\n",
              "      <td>0</td>\n",
              "      <td>0</td>\n",
              "      <td>0</td>\n",
              "      <td>0</td>\n",
              "      <td>0</td>\n",
              "      <td>0</td>\n",
              "      <td>0</td>\n",
              "      <td>0</td>\n",
              "      <td>0</td>\n",
              "      <td>0</td>\n",
              "      <td>0</td>\n",
              "      <td>0</td>\n",
              "      <td>0</td>\n",
              "      <td>...</td>\n",
              "      <td>0</td>\n",
              "      <td>0</td>\n",
              "      <td>0</td>\n",
              "      <td>0</td>\n",
              "      <td>0</td>\n",
              "      <td>0</td>\n",
              "      <td>0</td>\n",
              "      <td>0</td>\n",
              "      <td>0</td>\n",
              "      <td>0</td>\n",
              "      <td>0</td>\n",
              "      <td>0</td>\n",
              "      <td>0</td>\n",
              "      <td>0</td>\n",
              "      <td>0</td>\n",
              "      <td>0</td>\n",
              "      <td>0</td>\n",
              "      <td>0</td>\n",
              "      <td>0</td>\n",
              "      <td>0</td>\n",
              "      <td>0</td>\n",
              "      <td>0</td>\n",
              "      <td>0</td>\n",
              "      <td>1</td>\n",
              "      <td>1</td>\n",
              "      <td>0</td>\n",
              "      <td>0</td>\n",
              "      <td>0</td>\n",
              "      <td>1</td>\n",
              "      <td>0</td>\n",
              "      <td>1</td>\n",
              "      <td>0</td>\n",
              "      <td>0.403316</td>\n",
              "      <td>0.666667</td>\n",
              "      <td>0.319628</td>\n",
              "      <td>0.319628</td>\n",
              "      <td>0.0</td>\n",
              "      <td>0.319628</td>\n",
              "      <td>0.566667</td>\n",
              "      <td>0.403316</td>\n",
              "    </tr>\n",
              "    <tr>\n",
              "      <th>3</th>\n",
              "      <td>0</td>\n",
              "      <td>0</td>\n",
              "      <td>0</td>\n",
              "      <td>0</td>\n",
              "      <td>0</td>\n",
              "      <td>0</td>\n",
              "      <td>0</td>\n",
              "      <td>0</td>\n",
              "      <td>0</td>\n",
              "      <td>0</td>\n",
              "      <td>0</td>\n",
              "      <td>0</td>\n",
              "      <td>0</td>\n",
              "      <td>0</td>\n",
              "      <td>0</td>\n",
              "      <td>0</td>\n",
              "      <td>0</td>\n",
              "      <td>1</td>\n",
              "      <td>0</td>\n",
              "      <td>0</td>\n",
              "      <td>0</td>\n",
              "      <td>0</td>\n",
              "      <td>0</td>\n",
              "      <td>0</td>\n",
              "      <td>0</td>\n",
              "      <td>0</td>\n",
              "      <td>0</td>\n",
              "      <td>0</td>\n",
              "      <td>0</td>\n",
              "      <td>0</td>\n",
              "      <td>0</td>\n",
              "      <td>0</td>\n",
              "      <td>0</td>\n",
              "      <td>0</td>\n",
              "      <td>0</td>\n",
              "      <td>0</td>\n",
              "      <td>0</td>\n",
              "      <td>0</td>\n",
              "      <td>0</td>\n",
              "      <td>0</td>\n",
              "      <td>...</td>\n",
              "      <td>0</td>\n",
              "      <td>0</td>\n",
              "      <td>0</td>\n",
              "      <td>0</td>\n",
              "      <td>0</td>\n",
              "      <td>0</td>\n",
              "      <td>0</td>\n",
              "      <td>0</td>\n",
              "      <td>0</td>\n",
              "      <td>0</td>\n",
              "      <td>0</td>\n",
              "      <td>0</td>\n",
              "      <td>0</td>\n",
              "      <td>0</td>\n",
              "      <td>0</td>\n",
              "      <td>0</td>\n",
              "      <td>0</td>\n",
              "      <td>0</td>\n",
              "      <td>0</td>\n",
              "      <td>0</td>\n",
              "      <td>0</td>\n",
              "      <td>0</td>\n",
              "      <td>0</td>\n",
              "      <td>0</td>\n",
              "      <td>1</td>\n",
              "      <td>0</td>\n",
              "      <td>0</td>\n",
              "      <td>1</td>\n",
              "      <td>0</td>\n",
              "      <td>0</td>\n",
              "      <td>0</td>\n",
              "      <td>1</td>\n",
              "      <td>0.535603</td>\n",
              "      <td>0.777778</td>\n",
              "      <td>0.463549</td>\n",
              "      <td>0.463549</td>\n",
              "      <td>0.0</td>\n",
              "      <td>0.463549</td>\n",
              "      <td>0.733333</td>\n",
              "      <td>0.535603</td>\n",
              "    </tr>\n",
              "    <tr>\n",
              "      <th>4</th>\n",
              "      <td>0</td>\n",
              "      <td>0</td>\n",
              "      <td>0</td>\n",
              "      <td>0</td>\n",
              "      <td>0</td>\n",
              "      <td>0</td>\n",
              "      <td>0</td>\n",
              "      <td>0</td>\n",
              "      <td>0</td>\n",
              "      <td>0</td>\n",
              "      <td>0</td>\n",
              "      <td>0</td>\n",
              "      <td>0</td>\n",
              "      <td>0</td>\n",
              "      <td>0</td>\n",
              "      <td>0</td>\n",
              "      <td>0</td>\n",
              "      <td>0</td>\n",
              "      <td>0</td>\n",
              "      <td>0</td>\n",
              "      <td>0</td>\n",
              "      <td>0</td>\n",
              "      <td>0</td>\n",
              "      <td>0</td>\n",
              "      <td>0</td>\n",
              "      <td>0</td>\n",
              "      <td>0</td>\n",
              "      <td>0</td>\n",
              "      <td>0</td>\n",
              "      <td>0</td>\n",
              "      <td>0</td>\n",
              "      <td>0</td>\n",
              "      <td>0</td>\n",
              "      <td>0</td>\n",
              "      <td>0</td>\n",
              "      <td>0</td>\n",
              "      <td>0</td>\n",
              "      <td>0</td>\n",
              "      <td>0</td>\n",
              "      <td>0</td>\n",
              "      <td>...</td>\n",
              "      <td>0</td>\n",
              "      <td>0</td>\n",
              "      <td>0</td>\n",
              "      <td>0</td>\n",
              "      <td>0</td>\n",
              "      <td>0</td>\n",
              "      <td>0</td>\n",
              "      <td>0</td>\n",
              "      <td>0</td>\n",
              "      <td>0</td>\n",
              "      <td>0</td>\n",
              "      <td>0</td>\n",
              "      <td>0</td>\n",
              "      <td>0</td>\n",
              "      <td>0</td>\n",
              "      <td>0</td>\n",
              "      <td>0</td>\n",
              "      <td>0</td>\n",
              "      <td>0</td>\n",
              "      <td>0</td>\n",
              "      <td>0</td>\n",
              "      <td>0</td>\n",
              "      <td>0</td>\n",
              "      <td>1</td>\n",
              "      <td>1</td>\n",
              "      <td>0</td>\n",
              "      <td>0</td>\n",
              "      <td>0</td>\n",
              "      <td>0</td>\n",
              "      <td>1</td>\n",
              "      <td>0</td>\n",
              "      <td>1</td>\n",
              "      <td>0.848131</td>\n",
              "      <td>0.666667</td>\n",
              "      <td>0.604377</td>\n",
              "      <td>0.604377</td>\n",
              "      <td>0.0</td>\n",
              "      <td>0.604377</td>\n",
              "      <td>0.216667</td>\n",
              "      <td>0.848131</td>\n",
              "    </tr>\n",
              "    <tr>\n",
              "      <th>...</th>\n",
              "      <td>...</td>\n",
              "      <td>...</td>\n",
              "      <td>...</td>\n",
              "      <td>...</td>\n",
              "      <td>...</td>\n",
              "      <td>...</td>\n",
              "      <td>...</td>\n",
              "      <td>...</td>\n",
              "      <td>...</td>\n",
              "      <td>...</td>\n",
              "      <td>...</td>\n",
              "      <td>...</td>\n",
              "      <td>...</td>\n",
              "      <td>...</td>\n",
              "      <td>...</td>\n",
              "      <td>...</td>\n",
              "      <td>...</td>\n",
              "      <td>...</td>\n",
              "      <td>...</td>\n",
              "      <td>...</td>\n",
              "      <td>...</td>\n",
              "      <td>...</td>\n",
              "      <td>...</td>\n",
              "      <td>...</td>\n",
              "      <td>...</td>\n",
              "      <td>...</td>\n",
              "      <td>...</td>\n",
              "      <td>...</td>\n",
              "      <td>...</td>\n",
              "      <td>...</td>\n",
              "      <td>...</td>\n",
              "      <td>...</td>\n",
              "      <td>...</td>\n",
              "      <td>...</td>\n",
              "      <td>...</td>\n",
              "      <td>...</td>\n",
              "      <td>...</td>\n",
              "      <td>...</td>\n",
              "      <td>...</td>\n",
              "      <td>...</td>\n",
              "      <td>...</td>\n",
              "      <td>...</td>\n",
              "      <td>...</td>\n",
              "      <td>...</td>\n",
              "      <td>...</td>\n",
              "      <td>...</td>\n",
              "      <td>...</td>\n",
              "      <td>...</td>\n",
              "      <td>...</td>\n",
              "      <td>...</td>\n",
              "      <td>...</td>\n",
              "      <td>...</td>\n",
              "      <td>...</td>\n",
              "      <td>...</td>\n",
              "      <td>...</td>\n",
              "      <td>...</td>\n",
              "      <td>...</td>\n",
              "      <td>...</td>\n",
              "      <td>...</td>\n",
              "      <td>...</td>\n",
              "      <td>...</td>\n",
              "      <td>...</td>\n",
              "      <td>...</td>\n",
              "      <td>...</td>\n",
              "      <td>...</td>\n",
              "      <td>...</td>\n",
              "      <td>...</td>\n",
              "      <td>...</td>\n",
              "      <td>...</td>\n",
              "      <td>...</td>\n",
              "      <td>...</td>\n",
              "      <td>...</td>\n",
              "      <td>...</td>\n",
              "      <td>...</td>\n",
              "      <td>...</td>\n",
              "      <td>...</td>\n",
              "      <td>...</td>\n",
              "      <td>...</td>\n",
              "      <td>...</td>\n",
              "      <td>...</td>\n",
              "      <td>...</td>\n",
              "    </tr>\n",
              "    <tr>\n",
              "      <th>995</th>\n",
              "      <td>0</td>\n",
              "      <td>0</td>\n",
              "      <td>0</td>\n",
              "      <td>0</td>\n",
              "      <td>0</td>\n",
              "      <td>0</td>\n",
              "      <td>0</td>\n",
              "      <td>0</td>\n",
              "      <td>0</td>\n",
              "      <td>0</td>\n",
              "      <td>0</td>\n",
              "      <td>0</td>\n",
              "      <td>0</td>\n",
              "      <td>0</td>\n",
              "      <td>0</td>\n",
              "      <td>0</td>\n",
              "      <td>0</td>\n",
              "      <td>0</td>\n",
              "      <td>0</td>\n",
              "      <td>0</td>\n",
              "      <td>0</td>\n",
              "      <td>0</td>\n",
              "      <td>0</td>\n",
              "      <td>0</td>\n",
              "      <td>0</td>\n",
              "      <td>0</td>\n",
              "      <td>0</td>\n",
              "      <td>0</td>\n",
              "      <td>0</td>\n",
              "      <td>0</td>\n",
              "      <td>0</td>\n",
              "      <td>0</td>\n",
              "      <td>0</td>\n",
              "      <td>0</td>\n",
              "      <td>0</td>\n",
              "      <td>0</td>\n",
              "      <td>0</td>\n",
              "      <td>0</td>\n",
              "      <td>0</td>\n",
              "      <td>0</td>\n",
              "      <td>...</td>\n",
              "      <td>0</td>\n",
              "      <td>0</td>\n",
              "      <td>0</td>\n",
              "      <td>0</td>\n",
              "      <td>0</td>\n",
              "      <td>0</td>\n",
              "      <td>0</td>\n",
              "      <td>0</td>\n",
              "      <td>0</td>\n",
              "      <td>0</td>\n",
              "      <td>0</td>\n",
              "      <td>0</td>\n",
              "      <td>0</td>\n",
              "      <td>0</td>\n",
              "      <td>0</td>\n",
              "      <td>0</td>\n",
              "      <td>0</td>\n",
              "      <td>0</td>\n",
              "      <td>0</td>\n",
              "      <td>0</td>\n",
              "      <td>0</td>\n",
              "      <td>0</td>\n",
              "      <td>1</td>\n",
              "      <td>1</td>\n",
              "      <td>1</td>\n",
              "      <td>0</td>\n",
              "      <td>0</td>\n",
              "      <td>1</td>\n",
              "      <td>0</td>\n",
              "      <td>0</td>\n",
              "      <td>0</td>\n",
              "      <td>1</td>\n",
              "      <td>0.336782</td>\n",
              "      <td>0.000000</td>\n",
              "      <td>0.030707</td>\n",
              "      <td>0.030707</td>\n",
              "      <td>0.0</td>\n",
              "      <td>0.030707</td>\n",
              "      <td>0.366667</td>\n",
              "      <td>0.336782</td>\n",
              "    </tr>\n",
              "    <tr>\n",
              "      <th>996</th>\n",
              "      <td>0</td>\n",
              "      <td>0</td>\n",
              "      <td>0</td>\n",
              "      <td>0</td>\n",
              "      <td>0</td>\n",
              "      <td>0</td>\n",
              "      <td>0</td>\n",
              "      <td>0</td>\n",
              "      <td>0</td>\n",
              "      <td>0</td>\n",
              "      <td>0</td>\n",
              "      <td>0</td>\n",
              "      <td>0</td>\n",
              "      <td>0</td>\n",
              "      <td>0</td>\n",
              "      <td>0</td>\n",
              "      <td>0</td>\n",
              "      <td>0</td>\n",
              "      <td>0</td>\n",
              "      <td>0</td>\n",
              "      <td>0</td>\n",
              "      <td>0</td>\n",
              "      <td>0</td>\n",
              "      <td>0</td>\n",
              "      <td>0</td>\n",
              "      <td>0</td>\n",
              "      <td>0</td>\n",
              "      <td>0</td>\n",
              "      <td>0</td>\n",
              "      <td>0</td>\n",
              "      <td>0</td>\n",
              "      <td>0</td>\n",
              "      <td>0</td>\n",
              "      <td>0</td>\n",
              "      <td>0</td>\n",
              "      <td>0</td>\n",
              "      <td>0</td>\n",
              "      <td>0</td>\n",
              "      <td>0</td>\n",
              "      <td>0</td>\n",
              "      <td>...</td>\n",
              "      <td>0</td>\n",
              "      <td>0</td>\n",
              "      <td>0</td>\n",
              "      <td>0</td>\n",
              "      <td>0</td>\n",
              "      <td>0</td>\n",
              "      <td>0</td>\n",
              "      <td>0</td>\n",
              "      <td>0</td>\n",
              "      <td>0</td>\n",
              "      <td>0</td>\n",
              "      <td>0</td>\n",
              "      <td>0</td>\n",
              "      <td>0</td>\n",
              "      <td>0</td>\n",
              "      <td>0</td>\n",
              "      <td>0</td>\n",
              "      <td>0</td>\n",
              "      <td>0</td>\n",
              "      <td>0</td>\n",
              "      <td>0</td>\n",
              "      <td>1</td>\n",
              "      <td>0</td>\n",
              "      <td>1</td>\n",
              "      <td>0</td>\n",
              "      <td>0</td>\n",
              "      <td>0</td>\n",
              "      <td>0</td>\n",
              "      <td>1</td>\n",
              "      <td>0</td>\n",
              "      <td>0</td>\n",
              "      <td>1</td>\n",
              "      <td>0.971295</td>\n",
              "      <td>1.000000</td>\n",
              "      <td>0.980465</td>\n",
              "      <td>0.980465</td>\n",
              "      <td>0.0</td>\n",
              "      <td>0.980465</td>\n",
              "      <td>0.066667</td>\n",
              "      <td>0.971295</td>\n",
              "    </tr>\n",
              "    <tr>\n",
              "      <th>997</th>\n",
              "      <td>0</td>\n",
              "      <td>0</td>\n",
              "      <td>0</td>\n",
              "      <td>0</td>\n",
              "      <td>0</td>\n",
              "      <td>0</td>\n",
              "      <td>0</td>\n",
              "      <td>0</td>\n",
              "      <td>0</td>\n",
              "      <td>0</td>\n",
              "      <td>0</td>\n",
              "      <td>0</td>\n",
              "      <td>0</td>\n",
              "      <td>0</td>\n",
              "      <td>0</td>\n",
              "      <td>0</td>\n",
              "      <td>0</td>\n",
              "      <td>0</td>\n",
              "      <td>0</td>\n",
              "      <td>0</td>\n",
              "      <td>0</td>\n",
              "      <td>0</td>\n",
              "      <td>0</td>\n",
              "      <td>0</td>\n",
              "      <td>0</td>\n",
              "      <td>0</td>\n",
              "      <td>0</td>\n",
              "      <td>0</td>\n",
              "      <td>0</td>\n",
              "      <td>0</td>\n",
              "      <td>0</td>\n",
              "      <td>0</td>\n",
              "      <td>0</td>\n",
              "      <td>0</td>\n",
              "      <td>0</td>\n",
              "      <td>0</td>\n",
              "      <td>0</td>\n",
              "      <td>0</td>\n",
              "      <td>0</td>\n",
              "      <td>0</td>\n",
              "      <td>...</td>\n",
              "      <td>0</td>\n",
              "      <td>0</td>\n",
              "      <td>0</td>\n",
              "      <td>0</td>\n",
              "      <td>0</td>\n",
              "      <td>0</td>\n",
              "      <td>0</td>\n",
              "      <td>0</td>\n",
              "      <td>0</td>\n",
              "      <td>0</td>\n",
              "      <td>0</td>\n",
              "      <td>0</td>\n",
              "      <td>0</td>\n",
              "      <td>0</td>\n",
              "      <td>0</td>\n",
              "      <td>0</td>\n",
              "      <td>0</td>\n",
              "      <td>0</td>\n",
              "      <td>0</td>\n",
              "      <td>0</td>\n",
              "      <td>0</td>\n",
              "      <td>0</td>\n",
              "      <td>0</td>\n",
              "      <td>0</td>\n",
              "      <td>1</td>\n",
              "      <td>0</td>\n",
              "      <td>1</td>\n",
              "      <td>0</td>\n",
              "      <td>0</td>\n",
              "      <td>0</td>\n",
              "      <td>0</td>\n",
              "      <td>0</td>\n",
              "      <td>0.242101</td>\n",
              "      <td>0.000000</td>\n",
              "      <td>0.022049</td>\n",
              "      <td>0.022049</td>\n",
              "      <td>0.0</td>\n",
              "      <td>0.022049</td>\n",
              "      <td>0.616667</td>\n",
              "      <td>0.242101</td>\n",
              "    </tr>\n",
              "    <tr>\n",
              "      <th>998</th>\n",
              "      <td>0</td>\n",
              "      <td>0</td>\n",
              "      <td>0</td>\n",
              "      <td>0</td>\n",
              "      <td>0</td>\n",
              "      <td>0</td>\n",
              "      <td>0</td>\n",
              "      <td>0</td>\n",
              "      <td>0</td>\n",
              "      <td>0</td>\n",
              "      <td>0</td>\n",
              "      <td>0</td>\n",
              "      <td>0</td>\n",
              "      <td>0</td>\n",
              "      <td>0</td>\n",
              "      <td>0</td>\n",
              "      <td>0</td>\n",
              "      <td>0</td>\n",
              "      <td>0</td>\n",
              "      <td>0</td>\n",
              "      <td>0</td>\n",
              "      <td>0</td>\n",
              "      <td>0</td>\n",
              "      <td>0</td>\n",
              "      <td>0</td>\n",
              "      <td>0</td>\n",
              "      <td>0</td>\n",
              "      <td>0</td>\n",
              "      <td>0</td>\n",
              "      <td>0</td>\n",
              "      <td>0</td>\n",
              "      <td>0</td>\n",
              "      <td>0</td>\n",
              "      <td>0</td>\n",
              "      <td>0</td>\n",
              "      <td>0</td>\n",
              "      <td>0</td>\n",
              "      <td>0</td>\n",
              "      <td>0</td>\n",
              "      <td>0</td>\n",
              "      <td>...</td>\n",
              "      <td>0</td>\n",
              "      <td>0</td>\n",
              "      <td>0</td>\n",
              "      <td>0</td>\n",
              "      <td>0</td>\n",
              "      <td>0</td>\n",
              "      <td>0</td>\n",
              "      <td>0</td>\n",
              "      <td>0</td>\n",
              "      <td>0</td>\n",
              "      <td>0</td>\n",
              "      <td>0</td>\n",
              "      <td>0</td>\n",
              "      <td>0</td>\n",
              "      <td>0</td>\n",
              "      <td>0</td>\n",
              "      <td>0</td>\n",
              "      <td>0</td>\n",
              "      <td>0</td>\n",
              "      <td>0</td>\n",
              "      <td>0</td>\n",
              "      <td>0</td>\n",
              "      <td>0</td>\n",
              "      <td>1</td>\n",
              "      <td>1</td>\n",
              "      <td>0</td>\n",
              "      <td>0</td>\n",
              "      <td>0</td>\n",
              "      <td>1</td>\n",
              "      <td>0</td>\n",
              "      <td>0</td>\n",
              "      <td>0</td>\n",
              "      <td>0.620160</td>\n",
              "      <td>0.000000</td>\n",
              "      <td>0.056622</td>\n",
              "      <td>0.056622</td>\n",
              "      <td>0.0</td>\n",
              "      <td>0.056622</td>\n",
              "      <td>0.016667</td>\n",
              "      <td>0.620160</td>\n",
              "    </tr>\n",
              "    <tr>\n",
              "      <th>999</th>\n",
              "      <td>0</td>\n",
              "      <td>0</td>\n",
              "      <td>0</td>\n",
              "      <td>0</td>\n",
              "      <td>0</td>\n",
              "      <td>0</td>\n",
              "      <td>0</td>\n",
              "      <td>0</td>\n",
              "      <td>0</td>\n",
              "      <td>0</td>\n",
              "      <td>0</td>\n",
              "      <td>0</td>\n",
              "      <td>0</td>\n",
              "      <td>0</td>\n",
              "      <td>0</td>\n",
              "      <td>0</td>\n",
              "      <td>0</td>\n",
              "      <td>0</td>\n",
              "      <td>0</td>\n",
              "      <td>0</td>\n",
              "      <td>0</td>\n",
              "      <td>0</td>\n",
              "      <td>0</td>\n",
              "      <td>0</td>\n",
              "      <td>0</td>\n",
              "      <td>0</td>\n",
              "      <td>0</td>\n",
              "      <td>0</td>\n",
              "      <td>0</td>\n",
              "      <td>0</td>\n",
              "      <td>0</td>\n",
              "      <td>0</td>\n",
              "      <td>0</td>\n",
              "      <td>0</td>\n",
              "      <td>0</td>\n",
              "      <td>0</td>\n",
              "      <td>0</td>\n",
              "      <td>0</td>\n",
              "      <td>0</td>\n",
              "      <td>0</td>\n",
              "      <td>...</td>\n",
              "      <td>0</td>\n",
              "      <td>0</td>\n",
              "      <td>0</td>\n",
              "      <td>0</td>\n",
              "      <td>0</td>\n",
              "      <td>0</td>\n",
              "      <td>0</td>\n",
              "      <td>0</td>\n",
              "      <td>0</td>\n",
              "      <td>0</td>\n",
              "      <td>0</td>\n",
              "      <td>0</td>\n",
              "      <td>0</td>\n",
              "      <td>0</td>\n",
              "      <td>0</td>\n",
              "      <td>0</td>\n",
              "      <td>0</td>\n",
              "      <td>0</td>\n",
              "      <td>0</td>\n",
              "      <td>0</td>\n",
              "      <td>0</td>\n",
              "      <td>0</td>\n",
              "      <td>0</td>\n",
              "      <td>0</td>\n",
              "      <td>0</td>\n",
              "      <td>1</td>\n",
              "      <td>0</td>\n",
              "      <td>0</td>\n",
              "      <td>0</td>\n",
              "      <td>0</td>\n",
              "      <td>0</td>\n",
              "      <td>0</td>\n",
              "      <td>0.870717</td>\n",
              "      <td>0.666667</td>\n",
              "      <td>0.618835</td>\n",
              "      <td>0.618835</td>\n",
              "      <td>0.0</td>\n",
              "      <td>0.618835</td>\n",
              "      <td>0.433333</td>\n",
              "      <td>0.870717</td>\n",
              "    </tr>\n",
              "  </tbody>\n",
              "</table>\n",
              "<p>1000 rows × 1018 columns</p>\n",
              "</div>"
            ],
            "text/plain": [
              "     Invoice ID_101-81-4070  Invoice ID_102-06-2002  ...    Rating  TotalbyQuantity\n",
              "0                         0                       0  ...  0.850000         0.718847\n",
              "1                         0                       0  ...  0.933333         0.057855\n",
              "2                         0                       0  ...  0.566667         0.403316\n",
              "3                         0                       0  ...  0.733333         0.535603\n",
              "4                         0                       0  ...  0.216667         0.848131\n",
              "..                      ...                     ...  ...       ...              ...\n",
              "995                       0                       0  ...  0.366667         0.336782\n",
              "996                       0                       0  ...  0.066667         0.971295\n",
              "997                       0                       0  ...  0.616667         0.242101\n",
              "998                       0                       0  ...  0.016667         0.620160\n",
              "999                       0                       0  ...  0.433333         0.870717\n",
              "\n",
              "[1000 rows x 1018 columns]"
            ]
          },
          "metadata": {
            "tags": []
          },
          "execution_count": 37
        }
      ]
    },
    {
      "cell_type": "code",
      "metadata": {
        "colab": {
          "base_uri": "https://localhost:8080/"
        },
        "id": "NgzoEm0XkDfF",
        "outputId": "24ec85fd-9960-4080-b17b-dfbd7a14b4e2"
      },
      "source": [
        "y"
      ],
      "execution_count": null,
      "outputs": [
        {
          "output_type": "execute_result",
          "data": {
            "text/plain": [
              "0      0.521616\n",
              "1      0.067387\n",
              "2      0.319628\n",
              "3      0.463549\n",
              "4      0.604377\n",
              "         ...   \n",
              "995    0.030707\n",
              "996    0.980465\n",
              "997    0.022049\n",
              "998    0.056622\n",
              "999    0.618835\n",
              "Name: Total, Length: 1000, dtype: float64"
            ]
          },
          "metadata": {
            "tags": []
          },
          "execution_count": 38
        }
      ]
    },
    {
      "cell_type": "markdown",
      "metadata": {
        "id": "ORE3yz0vX4jn"
      },
      "source": [
        "# **SPLITTING THE DATA INTO TRAIN AND TEST**"
      ]
    },
    {
      "cell_type": "code",
      "metadata": {
        "id": "YAFt6ym4bjee"
      },
      "source": [
        "from sklearn.model_selection import train_test_split\n",
        "X_train,X_test,y_train,y_test = train_test_split(X,y,test_size=0.45,random_state=42)"
      ],
      "execution_count": null,
      "outputs": []
    },
    {
      "cell_type": "code",
      "metadata": {
        "colab": {
          "base_uri": "https://localhost:8080/"
        },
        "id": "xP6dHRN8bm7t",
        "outputId": "12ef0841-0914-44ff-98a2-04bb1d02d6d6"
      },
      "source": [
        "X_train.shape"
      ],
      "execution_count": null,
      "outputs": [
        {
          "output_type": "execute_result",
          "data": {
            "text/plain": [
              "(550, 1018)"
            ]
          },
          "metadata": {
            "tags": []
          },
          "execution_count": 40
        }
      ]
    },
    {
      "cell_type": "markdown",
      "metadata": {
        "id": "KAe2wEFgYM7U"
      },
      "source": [
        "# **MODELLING**"
      ]
    },
    {
      "cell_type": "code",
      "metadata": {
        "id": "qT0qJjW-bpNZ"
      },
      "source": [
        "from sklearn.preprocessing import PolynomialFeatures\n",
        "#Fit Models\n",
        "from sklearn.linear_model import LinearRegression\n",
        "#Scoring function\n",
        "from sklearn.metrics import mean_absolute_error\n",
        "from sklearn.metrics import mean_squared_error\n",
        "from sklearn.metrics import accuracy_score"
      ],
      "execution_count": null,
      "outputs": []
    },
    {
      "cell_type": "markdown",
      "metadata": {
        "id": "RfQ8MRQxYcdG"
      },
      "source": [
        "# **LINEAR REGRESSION**"
      ]
    },
    {
      "cell_type": "code",
      "metadata": {
        "colab": {
          "base_uri": "https://localhost:8080/"
        },
        "id": "RFN9Be3Nbsgz",
        "outputId": "10a9eb6f-926d-4945-f713-4382912a90b3"
      },
      "source": [
        "model1 = LinearRegression()\n",
        "model1.fit(X_train,y_train)\n",
        "y_pred = model1.predict(X_test)\n",
        "print(mean_absolute_error(y_test,y_pred))\n",
        "print(np.sqrt(mean_squared_error(y_test,y_pred)))\n",
        "print(model1.score(X_train,y_train))\n",
        "linear_r2 = (model1.score(X_test,y_test))\n",
        "linear_r2"
      ],
      "execution_count": null,
      "outputs": [
        {
          "output_type": "stream",
          "text": [
            "0.004929289591742629\n",
            "0.006589557841012507\n",
            "1.0\n"
          ],
          "name": "stdout"
        },
        {
          "output_type": "execute_result",
          "data": {
            "text/plain": [
              "0.9992597363445245"
            ]
          },
          "metadata": {
            "tags": []
          },
          "execution_count": 42
        }
      ]
    },
    {
      "cell_type": "code",
      "metadata": {
        "colab": {
          "base_uri": "https://localhost:8080/"
        },
        "id": "VlqLtW4iUfZe",
        "outputId": "2f785d1c-46c0-46dd-fd1d-0a6562c3c0dc"
      },
      "source": [
        "mae_lr = round(mean_absolute_error(y_test, y_pred),4)\n",
        "mae_lr"
      ],
      "execution_count": null,
      "outputs": [
        {
          "output_type": "execute_result",
          "data": {
            "text/plain": [
              "0.0049"
            ]
          },
          "metadata": {
            "tags": []
          },
          "execution_count": 43
        }
      ]
    },
    {
      "cell_type": "code",
      "metadata": {
        "colab": {
          "base_uri": "https://localhost:8080/"
        },
        "id": "rP6X4M69VXJd",
        "outputId": "db60cd4c-679d-4dd7-f4d1-9a32cbfae1b8"
      },
      "source": [
        "rmse_lr = round(np.sqrt(mean_squared_error(y_test, y_pred)),2)\n",
        "rmse_lr"
      ],
      "execution_count": null,
      "outputs": [
        {
          "output_type": "execute_result",
          "data": {
            "text/plain": [
              "0.01"
            ]
          },
          "metadata": {
            "tags": []
          },
          "execution_count": 44
        }
      ]
    },
    {
      "cell_type": "markdown",
      "metadata": {
        "id": "lQR5Z0XMYyth"
      },
      "source": [
        "# **XGBOOST REGRESSOR**"
      ]
    },
    {
      "cell_type": "code",
      "metadata": {
        "id": "-qwYKmiTesCJ"
      },
      "source": [
        "from xgboost import XGBRegressor "
      ],
      "execution_count": null,
      "outputs": []
    },
    {
      "cell_type": "code",
      "metadata": {
        "id": "dP6jx0cpfT-y",
        "colab": {
          "base_uri": "https://localhost:8080/"
        },
        "outputId": "d2493784-ec99-47ea-d03e-9ef7c585f95e"
      },
      "source": [
        "xgb_model = XGBRegressor()\n",
        "xgb_model.fit(X_train , y_train)\n",
        "\n",
        "xgb_r2 = xgb_model.score(X_test, y_test)\n",
        "\n",
        "print(\"XGBoost R^2 Score: {:.5f}\".format(xgb_r2))\n",
        "y_pred_xgbr = xgb_model.predict(X_test)\n",
        "y_pred_xgbr"
      ],
      "execution_count": null,
      "outputs": [
        {
          "output_type": "stream",
          "text": [
            "[10:30:30] WARNING: /workspace/src/objective/regression_obj.cu:152: reg:linear is now deprecated in favor of reg:squarederror.\n",
            "XGBoost R^2 Score: 0.99990\n"
          ],
          "name": "stdout"
        },
        {
          "output_type": "execute_result",
          "data": {
            "text/plain": [
              "array([0.49360391, 0.57946205, 0.38177222, 0.1235486 , 0.03334218,\n",
              "       0.5973871 , 0.11355922, 0.70048   , 0.42652166, 0.12375093,\n",
              "       0.3965536 , 0.43746406, 0.19743589, 0.23392737, 0.27041182,\n",
              "       0.3057487 , 0.5578008 , 0.1994445 , 0.7201261 , 0.168075  ,\n",
              "       0.3924211 , 0.1504063 , 0.1138356 , 0.11173239, 0.22925675,\n",
              "       0.17931718, 0.7078729 , 0.02023146, 0.13065776, 0.04426837,\n",
              "       0.06296247, 0.57952136, 0.08423248, 0.40557846, 0.17835605,\n",
              "       0.15878063, 0.63714695, 0.17967996, 0.17829102, 0.17838117,\n",
              "       0.19810143, 0.88057995, 0.06280088, 0.16465762, 0.07910243,\n",
              "       0.38014522, 0.20712596, 0.05838203, 0.32678306, 0.25955778,\n",
              "       0.40551275, 0.08858445, 0.05841354, 0.2527069 , 0.16463548,\n",
              "       0.4701414 , 0.43662018, 0.04937997, 0.4331451 , 0.20720607,\n",
              "       0.11227101, 0.02394053, 0.07199958, 0.9046638 , 0.3625019 ,\n",
              "       0.4833659 , 0.34677052, 0.72756314, 0.89771235, 0.10338694,\n",
              "       0.3657737 , 0.11378178, 0.27423304, 0.07314134, 0.05372071,\n",
              "       0.66529006, 0.72967285, 0.23388433, 0.06286335, 0.7116475 ,\n",
              "       0.28089035, 0.0580703 , 0.33077353, 0.57925797, 0.19961476,\n",
              "       0.2526616 , 0.05838203, 0.79256546, 0.3623659 , 0.37440234,\n",
              "       0.4934013 , 0.12379873, 0.22019652, 0.7624209 , 0.04736057,\n",
              "       0.32697055, 0.2138091 , 0.03295776, 0.15037382, 0.65078974,\n",
              "       0.5037848 , 0.3625019 , 0.54928523, 0.05825078, 0.66550326,\n",
              "       0.0494051 , 0.13052931, 0.89267385, 0.30265516, 0.37500495,\n",
              "       0.5417684 , 0.19963267, 0.31402755, 0.31416357, 0.38045382,\n",
              "       0.13206363, 0.0790033 , 0.01609421, 0.13206363, 0.17483059,\n",
              "       0.45919093, 0.36237156, 0.11542198, 0.6753195 , 0.2138091 ,\n",
              "       0.21359068, 0.06306618, 0.01002207, 0.11552846, 0.13046238,\n",
              "       0.1318427 , 0.5972984 , 0.6887783 , 0.03038621, 0.89267385,\n",
              "       0.6890166 , 0.79876035, 0.00827685, 0.418559  , 0.13675073,\n",
              "       0.02060226, 0.07913393, 0.81524163, 0.02657634, 0.13220876,\n",
              "       0.292977  , 0.07883972, 0.7476237 , 0.00576478, 0.03055647,\n",
              "       0.57961166, 0.88057995, 0.15174383, 0.9047111 , 0.90473956,\n",
              "       0.2914431 , 0.15661725, 0.24374083, 0.06621766, 0.15852728,\n",
              "       0.03601992, 0.07327944, 0.24383098, 0.3750263 , 0.09474534,\n",
              "       0.28079188, 0.23401469, 0.19182616, 0.7830633 , 0.479406  ,\n",
              "       0.7625112 , 0.02846441, 0.02394053, 0.59913534, 0.40544814,\n",
              "       0.43675125, 0.47038463, 0.25943565, 0.47021294, 0.2914431 ,\n",
              "       0.19150391, 0.5576104 , 0.6730037 , 0.15057656, 0.27414572,\n",
              "       0.19961476, 0.3536496 , 0.32690847, 0.45559204, 0.56817865,\n",
              "       0.16796976, 0.74741834, 0.08884716, 0.3536747 , 0.13045543,\n",
              "       0.22013149, 0.3817924 , 0.08414024, 0.07233766, 0.7912633 ,\n",
              "       0.22019652, 0.11210075, 0.4333606 , 0.98092985, 0.188068  ,\n",
              "       0.15042448, 0.33572412, 0.19947645, 0.61038584, 0.41847312,\n",
              "       0.15171134, 0.90473956, 0.04719698, 0.11563146, 0.03861663,\n",
              "       0.08874613, 0.1913324 , 0.50943464, 0.4121542 , 0.11542207,\n",
              "       0.5047438 , 0.04426837, 0.08868057, 0.8278415 , 0.42474198,\n",
              "       0.3201127 , 0.06274363, 0.98088264, 0.11175752, 0.06629357,\n",
              "       0.12364665, 0.04945225, 0.32678306, 0.56802243, 0.18809015,\n",
              "       0.7031783 , 0.02189013, 0.28089473, 0.7928333 , 0.03873113,\n",
              "       0.46123588, 0.07927907, 0.40527084, 0.42852113, 0.27412784,\n",
              "       0.824849  , 0.13043088, 0.17502597, 0.23690683, 0.06631869,\n",
              "       0.14615521, 0.76635826, 0.40534744, 0.29665658, 0.23677647,\n",
              "       0.30479407, 0.3536747 , 0.03340632, 0.01581845, 0.59900934,\n",
              "       0.15838158, 0.54945695, 0.06621957, 0.13223389, 0.96157604,\n",
              "       0.06293437, 0.08438003, 0.32690847, 0.22931382, 0.04446375,\n",
              "       0.0589104 , 0.1022054 , 0.3966588 , 0.4120246 , 0.11565956,\n",
              "       0.15661669, 0.07896096, 0.32669294, 0.28073853, 0.34679562,\n",
              "       0.2072312 , 0.2368016 , 0.07897133, 0.3965285 , 0.84988666,\n",
              "       0.02638882, 0.06629357, 0.02847829, 0.14070809, 0.11177284,\n",
              "       0.16412589, 0.04962251, 0.02187419, 0.2526867 , 0.19152904,\n",
              "       0.01177284, 0.2524683 , 0.33138478, 0.7453394 , 0.45919093,\n",
              "       0.06731969, 0.07930419, 0.17830592, 0.9796684 , 0.11586133,\n",
              "       0.20710084, 0.06272489, 0.23577282, 0.3750263 , 0.5975367 ,\n",
              "       0.2808696 , 0.14566153, 0.30604434, 0.05924726, 0.01609421,\n",
              "       0.01583272, 0.5417278 , 0.38040853, 0.38148382, 0.45903474,\n",
              "       0.09514546, 0.575069  , 0.03873113, 0.15170342, 0.08447972,\n",
              "       0.13692099, 0.5417278 , 0.19139037, 0.29657078, 0.5208862 ,\n",
              "       0.72756314, 0.13026658, 0.12362152, 0.00576478, 0.5207802 ,\n",
              "       0.05369261, 0.16471559, 0.54945695, 0.2072711 , 0.2245186 ,\n",
              "       0.33068776, 0.6861665 , 0.1586754 , 0.6563608 , 0.07153076,\n",
              "       0.11187088, 0.52092683, 0.07172382, 0.1799235 , 0.33757442,\n",
              "       0.30254996, 0.59880674, 0.798051  , 0.00827685, 0.188068  ,\n",
              "       0.54941636, 0.19166014, 0.00618964, 0.49342638, 0.46123442,\n",
              "       0.19741076, 0.07276851, 0.2680084 , 0.44617006, 0.3965285 ,\n",
              "       0.43739834, 0.04293007, 0.09495008, 0.48404875, 0.36560348,\n",
              "       0.48417836, 0.50389075, 0.9046638 , 0.31413844, 0.41204822,\n",
              "       0.02857634, 0.33744413, 0.45115727, 0.0790492 , 0.0855794 ,\n",
              "       0.05825779, 0.27198246, 0.9796684 , 0.5163359 , 0.2679004 ,\n",
              "       0.57955086, 0.06629357, 0.13220876, 0.27785856, 0.12362209,\n",
              "       0.04438174, 0.10304371, 0.10247448, 0.30254996, 0.5975165 ,\n",
              "       0.07896096, 0.26811594, 0.79893786, 0.57911956, 0.0221757 ,\n",
              "       0.2593645 , 0.21367875, 0.5207802 , 0.7007183 , 0.5972984 ,\n",
              "       0.47087118, 0.0790773 , 0.13694611, 0.2138091 , 0.50389075,\n",
              "       0.26810157, 0.3200075 , 0.3748739 , 0.04426837, 0.2678203 ,\n",
              "       0.48298854, 0.29125267, 0.08545515, 0.05880427, 0.13035211,\n",
              "       0.15664181, 0.16814002, 0.59911513, 0.55771494, 0.6730689 ,\n",
              "       0.25943565, 0.3201329 , 0.3306284 , 0.07927907, 0.18823826,\n",
              "       0.32707652, 0.6508149 , 0.02090314, 0.7006932 , 0.7116475 ,\n",
              "       0.22936198, 0.1465398 , 0.13682243, 0.07262456, 0.34282178,\n",
              "       0.00576478, 0.06266242, 0.850282  , 0.3304981 , 0.14678377,\n",
              "       0.17832807, 0.2928208 , 0.16814002, 0.18817323, 0.26799053],\n",
              "      dtype=float32)"
            ]
          },
          "metadata": {
            "tags": []
          },
          "execution_count": 46
        }
      ]
    },
    {
      "cell_type": "code",
      "metadata": {
        "colab": {
          "base_uri": "https://localhost:8080/"
        },
        "id": "BOUOERWfTw5q",
        "outputId": "0b0207f9-9a9f-4947-8ccb-28d9d3e9db68"
      },
      "source": [
        "mae_xgbr = round(mean_absolute_error(y_test, y_pred_xgbr),4)\n",
        "mae_xgbr"
      ],
      "execution_count": null,
      "outputs": [
        {
          "output_type": "execute_result",
          "data": {
            "text/plain": [
              "0.0016"
            ]
          },
          "metadata": {
            "tags": []
          },
          "execution_count": 47
        }
      ]
    },
    {
      "cell_type": "code",
      "metadata": {
        "colab": {
          "base_uri": "https://localhost:8080/"
        },
        "id": "VmIXu2wIVhoy",
        "outputId": "19c79e80-423d-48e9-8995-dadc067d387d"
      },
      "source": [
        "rmse_xgbr = round(np.sqrt(mean_squared_error(y_test, y_pred_xgbr)),4)\n",
        "rmse_xgbr"
      ],
      "execution_count": null,
      "outputs": [
        {
          "output_type": "execute_result",
          "data": {
            "text/plain": [
              "0.0024"
            ]
          },
          "metadata": {
            "tags": []
          },
          "execution_count": 48
        }
      ]
    },
    {
      "cell_type": "markdown",
      "metadata": {
        "id": "7V807OGaY6hx"
      },
      "source": [
        "# **SUPPORT VECTOR MACHINE (REGRESSOR)**"
      ]
    },
    {
      "cell_type": "code",
      "metadata": {
        "id": "Gqe5Nr_-fohf"
      },
      "source": [
        "from sklearn import svm\n",
        "from sklearn.pipeline import make_pipeline\n",
        "from sklearn.preprocessing import StandardScaler\n",
        "\n",
        "#svc_model = svm.SVC(kernel='poly')\n",
        "#svc_model = svm.SVC(kernel='poly', degree=3, C=1, decision_function_shape='ovo')\n",
        "from sklearn.svm import SVR\n",
        "svr_model = make_pipeline(StandardScaler(), SVR(gamma='scale'))\n",
        "#svc_model.fit(X, y)\n",
        "svr_model.fit(X_train, y_train)\n",
        "svr_model.score(X_train, y_train)\n",
        "\n",
        "y_pred_svm = svr_model.predict(X_test)\n",
        "y_pred_svm\n",
        "svr_r2 = svr_model.score(X_test, y_test)"
      ],
      "execution_count": null,
      "outputs": []
    },
    {
      "cell_type": "code",
      "metadata": {
        "colab": {
          "base_uri": "https://localhost:8080/"
        },
        "id": "kSC8Uc68gEtZ",
        "outputId": "456f1f1b-ac7d-4a5c-b839-298883ee507e"
      },
      "source": [
        "svr_r2"
      ],
      "execution_count": null,
      "outputs": [
        {
          "output_type": "execute_result",
          "data": {
            "text/plain": [
              "0.9679691765367794"
            ]
          },
          "metadata": {
            "tags": []
          },
          "execution_count": 50
        }
      ]
    },
    {
      "cell_type": "code",
      "metadata": {
        "colab": {
          "base_uri": "https://localhost:8080/"
        },
        "id": "HRIgvAraTV5o",
        "outputId": "d6fccc0e-59e1-49b3-f916-3e7fccbace1e"
      },
      "source": [
        "mae_svr = round(mean_absolute_error(y_test, y_pred_svm),2)\n",
        "mae_svr"
      ],
      "execution_count": null,
      "outputs": [
        {
          "output_type": "execute_result",
          "data": {
            "text/plain": [
              "0.04"
            ]
          },
          "metadata": {
            "tags": []
          },
          "execution_count": 51
        }
      ]
    },
    {
      "cell_type": "code",
      "metadata": {
        "colab": {
          "base_uri": "https://localhost:8080/"
        },
        "id": "ZtWuKiTHVpXL",
        "outputId": "6e21aead-eba6-4e9d-c5ef-d9b903f54c1e"
      },
      "source": [
        "rmse_svr = round(np.sqrt(mean_squared_error(y_test, y_pred_svm)),4)\n",
        "rmse_svr"
      ],
      "execution_count": null,
      "outputs": [
        {
          "output_type": "execute_result",
          "data": {
            "text/plain": [
              "0.0433"
            ]
          },
          "metadata": {
            "tags": []
          },
          "execution_count": 52
        }
      ]
    },
    {
      "cell_type": "code",
      "metadata": {
        "id": "fWJfgdnIgIc_",
        "colab": {
          "base_uri": "https://localhost:8080/",
          "height": 295
        },
        "outputId": "850f6e5f-803f-41be-82c6-1bdf9ddc01e9"
      },
      "source": [
        "algos_reg = ['LinearRegression', 'SVR', 'XGBoost Regressor']\n",
        "r2 = [linear_r2,svr_r2,xgb_r2]\n",
        "plt.bar(algos_reg,r2 , color=['firebrick', 'green', 'blue'],width= 0.3)\n",
        "plt.xlabel('Algorithms')\n",
        "plt.ylabel(\"R2 score\")\n",
        "plt.title(' Regressor Algorithms with their respective r2 score ')\n",
        "\n",
        "plt.show()"
      ],
      "execution_count": null,
      "outputs": [
        {
          "output_type": "display_data",
          "data": {
            "image/png": "[encoded data removed]",
            "text/plain": [
              "<Figure size 432x288 with 1 Axes>"
            ]
          },
          "metadata": {
            "tags": [],
            "needs_background": "light"
          }
        }
      ]
    },
    {
      "cell_type": "code",
      "metadata": {
        "id": "RxpsC_3B-xyT"
      },
      "source": [
        "from sklearn.metrics import mean_absolute_error,mean_squared_error"
      ],
      "execution_count": null,
      "outputs": []
    },
    {
      "cell_type": "code",
      "metadata": {
        "colab": {
          "base_uri": "https://localhost:8080/",
          "height": 166
        },
        "id": "n-0C0pO4TL8K",
        "outputId": "812ce67b-db40-4402-884e-f280599031b1"
      },
      "source": [
        "results = pd.DataFrame({\n",
        " 'Model': [ \n",
        "  'Support Vector Machine(regressor)', \n",
        " 'XGBoost Regressor','linear regression'\n",
        " ],\n",
        " 'Score': [mae_svr, \n",
        " mae_xgbr, mae_lr]})\n",
        "result_df = results.sort_values(by='Score', ascending=True)\n",
        "result_df = result_df.set_index('Score')\n",
        "result_df.head(9)"
      ],
      "execution_count": null,
      "outputs": [
        {
          "output_type": "execute_result",
          "data": {
            "text/html": [
              "<div>\n",
              "<style scoped>\n",
              "    .dataframe tbody tr th:only-of-type {\n",
              "        vertical-align: middle;\n",
              "    }\n",
              "\n",
              "    .dataframe tbody tr th {\n",
              "        vertical-align: top;\n",
              "    }\n",
              "\n",
              "    .dataframe thead th {\n",
              "        text-align: right;\n",
              "    }\n",
              "</style>\n",
              "<table border=\"1\" class=\"dataframe\">\n",
              "  <thead>\n",
              "    <tr style=\"text-align: right;\">\n",
              "      <th></th>\n",
              "      <th>Model</th>\n",
              "    </tr>\n",
              "    <tr>\n",
              "      <th>Score</th>\n",
              "      <th></th>\n",
              "    </tr>\n",
              "  </thead>\n",
              "  <tbody>\n",
              "    <tr>\n",
              "      <th>0.0016</th>\n",
              "      <td>XGBoost Regressor</td>\n",
              "    </tr>\n",
              "    <tr>\n",
              "      <th>0.0049</th>\n",
              "      <td>linear regression</td>\n",
              "    </tr>\n",
              "    <tr>\n",
              "      <th>0.0400</th>\n",
              "      <td>Support Vector Machine(regressor)</td>\n",
              "    </tr>\n",
              "  </tbody>\n",
              "</table>\n",
              "</div>"
            ],
            "text/plain": [
              "                                    Model\n",
              "Score                                    \n",
              "0.0016                  XGBoost Regressor\n",
              "0.0049                  linear regression\n",
              "0.0400  Support Vector Machine(regressor)"
            ]
          },
          "metadata": {
            "tags": []
          },
          "execution_count": 55
        }
      ]
    },
    {
      "cell_type": "code",
      "metadata": {
        "colab": {
          "base_uri": "https://localhost:8080/",
          "height": 166
        },
        "id": "BS7BZi3GVHEF",
        "outputId": "b9141380-cff8-4834-830e-a68a4ec4dc2e"
      },
      "source": [
        "results = pd.DataFrame({\n",
        " 'Model': [ \n",
        "  'Support Vector Machine(regressor)', \n",
        " 'XGBoost Regressor','linear regression'\n",
        " ],\n",
        " 'Score': [rmse_svr, \n",
        " rmse_xgbr, rmse_lr]})\n",
        "result_df = results.sort_values(by='Score', ascending=True)\n",
        "result_df = result_df.set_index('Score')\n",
        "result_df.head(9)"
      ],
      "execution_count": null,
      "outputs": [
        {
          "output_type": "execute_result",
          "data": {
            "text/html": [
              "<div>\n",
              "<style scoped>\n",
              "    .dataframe tbody tr th:only-of-type {\n",
              "        vertical-align: middle;\n",
              "    }\n",
              "\n",
              "    .dataframe tbody tr th {\n",
              "        vertical-align: top;\n",
              "    }\n",
              "\n",
              "    .dataframe thead th {\n",
              "        text-align: right;\n",
              "    }\n",
              "</style>\n",
              "<table border=\"1\" class=\"dataframe\">\n",
              "  <thead>\n",
              "    <tr style=\"text-align: right;\">\n",
              "      <th></th>\n",
              "      <th>Model</th>\n",
              "    </tr>\n",
              "    <tr>\n",
              "      <th>Score</th>\n",
              "      <th></th>\n",
              "    </tr>\n",
              "  </thead>\n",
              "  <tbody>\n",
              "    <tr>\n",
              "      <th>0.0024</th>\n",
              "      <td>XGBoost Regressor</td>\n",
              "    </tr>\n",
              "    <tr>\n",
              "      <th>0.0100</th>\n",
              "      <td>linear regression</td>\n",
              "    </tr>\n",
              "    <tr>\n",
              "      <th>0.0433</th>\n",
              "      <td>Support Vector Machine(regressor)</td>\n",
              "    </tr>\n",
              "  </tbody>\n",
              "</table>\n",
              "</div>"
            ],
            "text/plain": [
              "                                    Model\n",
              "Score                                    \n",
              "0.0024                  XGBoost Regressor\n",
              "0.0100                  linear regression\n",
              "0.0433  Support Vector Machine(regressor)"
            ]
          },
          "metadata": {
            "tags": []
          },
          "execution_count": 56
        }
      ]
    },
    {
      "cell_type": "code",
      "metadata": {
        "id": "4-5XnxvMV507"
      },
      "source": [
        ""
      ],
      "execution_count": null,
      "outputs": []
    }
  ]
}